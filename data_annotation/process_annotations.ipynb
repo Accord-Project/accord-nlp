{
 "cells": [
  {
   "cell_type": "code",
   "execution_count": 19,
   "metadata": {
    "collapsed": true
   },
   "outputs": [],
   "source": [
    "import pandas as pd # We use pandas to manipulate the data\n",
    "import json  # Load the data in json\n",
    "import numpy as np"
   ]
  },
  {
   "cell_type": "code",
   "execution_count": 20,
   "outputs": [],
   "source": [
    "json_path = 'data/round2/accord-r2-b_annotations.json'\n",
    "majority_vote = 2\n",
    "\n",
    "classes_output = 'data/round2/accord-r1-b-classes.csv'\n",
    "spans_output = 'data/round2/accord-r1-b-tags.csv'"
   ],
   "metadata": {
    "collapsed": false
   }
  },
  {
   "cell_type": "code",
   "execution_count": 21,
   "outputs": [],
   "source": [
    "results = json.load(open(json_path))  # Downloaded results\n",
    "examples = results['examples']"
   ],
   "metadata": {
    "collapsed": false
   }
  },
  {
   "cell_type": "code",
   "execution_count": 22,
   "outputs": [
    {
     "data": {
      "text/plain": "                             example_id  \\\n0  eeb4239f-3819-475c-ad20-756bed80c4ff   \n1  efd2d371-97de-4d5e-af06-e404ff71f316   \n2  efe70fd9-5cdd-4586-9ebc-73c2960b1e00   \n3  f19c920a-bd5a-49ac-a111-69fb944271b4   \n4  f439dcde-3cf9-4b40-b555-a2107ae5559f   \n\n                                             content  \\\n0  In reference heat loss calculations, the value...   \n1  The impact of the ground and crawl space on he...   \n2  If a fire door is kept open in normal use, it ...   \n3  The net heating energy demand for ventilation ...   \n4  If  the  circulation  piping  is  located insi...   \n\n                                 metadata  \n0  {'ID': '151_Finnish_EnergyEfficiency'}  \n1   {'ID': '91_Finnish_EnergyEfficiency'}  \n2        {'ID': '120_Finnish_FireSafety'}  \n3   {'ID': '86_Finnish_EnergyEfficiency'}  \n4  {'ID': '104_Finnish_EnergyEfficiency'}  ",
      "text/html": "<div>\n<style scoped>\n    .dataframe tbody tr th:only-of-type {\n        vertical-align: middle;\n    }\n\n    .dataframe tbody tr th {\n        vertical-align: top;\n    }\n\n    .dataframe thead th {\n        text-align: right;\n    }\n</style>\n<table border=\"1\" class=\"dataframe\">\n  <thead>\n    <tr style=\"text-align: right;\">\n      <th></th>\n      <th>example_id</th>\n      <th>content</th>\n      <th>metadata</th>\n    </tr>\n  </thead>\n  <tbody>\n    <tr>\n      <th>0</th>\n      <td>eeb4239f-3819-475c-ad20-756bed80c4ff</td>\n      <td>In reference heat loss calculations, the value...</td>\n      <td>{'ID': '151_Finnish_EnergyEfficiency'}</td>\n    </tr>\n    <tr>\n      <th>1</th>\n      <td>efd2d371-97de-4d5e-af06-e404ff71f316</td>\n      <td>The impact of the ground and crawl space on he...</td>\n      <td>{'ID': '91_Finnish_EnergyEfficiency'}</td>\n    </tr>\n    <tr>\n      <th>2</th>\n      <td>efe70fd9-5cdd-4586-9ebc-73c2960b1e00</td>\n      <td>If a fire door is kept open in normal use, it ...</td>\n      <td>{'ID': '120_Finnish_FireSafety'}</td>\n    </tr>\n    <tr>\n      <th>3</th>\n      <td>f19c920a-bd5a-49ac-a111-69fb944271b4</td>\n      <td>The net heating energy demand for ventilation ...</td>\n      <td>{'ID': '86_Finnish_EnergyEfficiency'}</td>\n    </tr>\n    <tr>\n      <th>4</th>\n      <td>f439dcde-3cf9-4b40-b555-a2107ae5559f</td>\n      <td>If  the  circulation  piping  is  located insi...</td>\n      <td>{'ID': '104_Finnish_EnergyEfficiency'}</td>\n    </tr>\n  </tbody>\n</table>\n</div>"
     },
     "execution_count": 22,
     "metadata": {},
     "output_type": "execute_result"
    }
   ],
   "source": [
    "# any change to the column order would affect class_columm_backward calculation in sentence level\n",
    "Examples = pd.DataFrame(examples,columns=['example_id', 'content','metadata'])\n",
    "Examples.head()"
   ],
   "metadata": {
    "collapsed": false
   }
  },
  {
   "cell_type": "markdown",
   "source": [
    "# Sentence Level\n",
    "https://guide.lighttag.io/in-depth/working_with_results/#Classifications"
   ],
   "metadata": {
    "collapsed": false
   }
  },
  {
   "cell_type": "code",
   "execution_count": 5,
   "outputs": [
    {
     "data": {
      "text/plain": "{'correct': None,\n 'class_id': '83c313b8-6590-4a77-93e7-ef9f91a6cc93',\n 'reviewed': False,\n 'classname': 'complete-regulatory',\n 'example_id': '1e98cae3-27a1-4a20-82c8-7d0d1310da11',\n 'classified_by': [{'annotator': 'hansi.hettiarachchi@bcu.ac.uk',\n   'timestamp': '2023-03-30T08:55:51.012+00:00',\n   'annotator_id': 1},\n  {'annotator': 'amna.dridi@bcu.ac.uk',\n   'timestamp': '2023-03-29T19:04:46.024+00:00',\n   'annotator_id': 3}],\n 'definition_id': '48c2f559-a29a-4cf1-b904-7d080c3bee7e'}"
     },
     "execution_count": 5,
     "metadata": {},
     "output_type": "execute_result"
    }
   ],
   "source": [
    "all_classifications = sum(map(lambda x:x['classifications'],examples),[])\n",
    "all_classifications[0]"
   ],
   "metadata": {
    "collapsed": false
   }
  },
  {
   "cell_type": "code",
   "execution_count": 6,
   "outputs": [
    {
     "name": "stderr",
     "output_type": "stream",
     "text": [
      "C:\\Users\\id127897\\AppData\\Local\\Temp\\ipykernel_21252\\2048103800.py:1: FutureWarning: pandas.io.json.json_normalize is deprecated, use pandas.json_normalize instead.\n",
      "  Classifications = pd.io.json.json_normalize(all_classifications,meta=['example_id','classname'],record_path='classified_by')\n"
     ]
    },
    {
     "data": {
      "text/plain": "                       annotator                      timestamp  annotator_id  \\\n0  hansi.hettiarachchi@bcu.ac.uk  2023-03-30T08:55:51.012+00:00             1   \n1           amna.dridi@bcu.ac.uk  2023-03-29T19:04:46.024+00:00             3   \n2           amna.dridi@bcu.ac.uk   2023-03-29T19:38:04.74+00:00             3   \n3  hansi.hettiarachchi@bcu.ac.uk  2023-03-30T12:51:09.489+00:00             1   \n4           amna.dridi@bcu.ac.uk  2023-03-29T19:53:06.397+00:00             3   \n\n                             example_id            classname  \n0  1e98cae3-27a1-4a20-82c8-7d0d1310da11  complete-regulatory  \n1  1e98cae3-27a1-4a20-82c8-7d0d1310da11  complete-regulatory  \n2  5dad4733-1522-4d40-b38e-815629c33073  complete-regulatory  \n3  5dad4733-1522-4d40-b38e-815629c33073  complete-regulatory  \n4  fbfb9d28-29e2-4066-9012-db971816ef3c                other  ",
      "text/html": "<div>\n<style scoped>\n    .dataframe tbody tr th:only-of-type {\n        vertical-align: middle;\n    }\n\n    .dataframe tbody tr th {\n        vertical-align: top;\n    }\n\n    .dataframe thead th {\n        text-align: right;\n    }\n</style>\n<table border=\"1\" class=\"dataframe\">\n  <thead>\n    <tr style=\"text-align: right;\">\n      <th></th>\n      <th>annotator</th>\n      <th>timestamp</th>\n      <th>annotator_id</th>\n      <th>example_id</th>\n      <th>classname</th>\n    </tr>\n  </thead>\n  <tbody>\n    <tr>\n      <th>0</th>\n      <td>hansi.hettiarachchi@bcu.ac.uk</td>\n      <td>2023-03-30T08:55:51.012+00:00</td>\n      <td>1</td>\n      <td>1e98cae3-27a1-4a20-82c8-7d0d1310da11</td>\n      <td>complete-regulatory</td>\n    </tr>\n    <tr>\n      <th>1</th>\n      <td>amna.dridi@bcu.ac.uk</td>\n      <td>2023-03-29T19:04:46.024+00:00</td>\n      <td>3</td>\n      <td>1e98cae3-27a1-4a20-82c8-7d0d1310da11</td>\n      <td>complete-regulatory</td>\n    </tr>\n    <tr>\n      <th>2</th>\n      <td>amna.dridi@bcu.ac.uk</td>\n      <td>2023-03-29T19:38:04.74+00:00</td>\n      <td>3</td>\n      <td>5dad4733-1522-4d40-b38e-815629c33073</td>\n      <td>complete-regulatory</td>\n    </tr>\n    <tr>\n      <th>3</th>\n      <td>hansi.hettiarachchi@bcu.ac.uk</td>\n      <td>2023-03-30T12:51:09.489+00:00</td>\n      <td>1</td>\n      <td>5dad4733-1522-4d40-b38e-815629c33073</td>\n      <td>complete-regulatory</td>\n    </tr>\n    <tr>\n      <th>4</th>\n      <td>amna.dridi@bcu.ac.uk</td>\n      <td>2023-03-29T19:53:06.397+00:00</td>\n      <td>3</td>\n      <td>fbfb9d28-29e2-4066-9012-db971816ef3c</td>\n      <td>other</td>\n    </tr>\n  </tbody>\n</table>\n</div>"
     },
     "execution_count": 6,
     "metadata": {},
     "output_type": "execute_result"
    }
   ],
   "source": [
    "Classifications = pd.io.json.json_normalize(all_classifications,meta=['example_id','classname'],record_path='classified_by')\n",
    "Classifications.head()"
   ],
   "metadata": {
    "collapsed": false
   }
  },
  {
   "cell_type": "code",
   "execution_count": 7,
   "outputs": [
    {
     "data": {
      "text/plain": "classname                             complete-regulatory  other\nexample_id                                                      \n0cdc1d50-e346-469a-8528-546e35cf5b95                  2.0    0.0\n1e98cae3-27a1-4a20-82c8-7d0d1310da11                  2.0    0.0\n1f9970ac-b9a8-4e15-bdc9-7a247e0356b5                  2.0    0.0\n40b22cfb-7d06-4d18-972b-2706d689d552                  0.0    2.0\n48361556-520b-4a1f-9338-11d5292a6360                  2.0    0.0",
      "text/html": "<div>\n<style scoped>\n    .dataframe tbody tr th:only-of-type {\n        vertical-align: middle;\n    }\n\n    .dataframe tbody tr th {\n        vertical-align: top;\n    }\n\n    .dataframe thead th {\n        text-align: right;\n    }\n</style>\n<table border=\"1\" class=\"dataframe\">\n  <thead>\n    <tr style=\"text-align: right;\">\n      <th>classname</th>\n      <th>complete-regulatory</th>\n      <th>other</th>\n    </tr>\n    <tr>\n      <th>example_id</th>\n      <th></th>\n      <th></th>\n    </tr>\n  </thead>\n  <tbody>\n    <tr>\n      <th>0cdc1d50-e346-469a-8528-546e35cf5b95</th>\n      <td>2.0</td>\n      <td>0.0</td>\n    </tr>\n    <tr>\n      <th>1e98cae3-27a1-4a20-82c8-7d0d1310da11</th>\n      <td>2.0</td>\n      <td>0.0</td>\n    </tr>\n    <tr>\n      <th>1f9970ac-b9a8-4e15-bdc9-7a247e0356b5</th>\n      <td>2.0</td>\n      <td>0.0</td>\n    </tr>\n    <tr>\n      <th>40b22cfb-7d06-4d18-972b-2706d689d552</th>\n      <td>0.0</td>\n      <td>2.0</td>\n    </tr>\n    <tr>\n      <th>48361556-520b-4a1f-9338-11d5292a6360</th>\n      <td>2.0</td>\n      <td>0.0</td>\n    </tr>\n  </tbody>\n</table>\n</div>"
     },
     "execution_count": 7,
     "metadata": {},
     "output_type": "execute_result"
    }
   ],
   "source": [
    "ClassPivot = Classifications.pivot_table(index='example_id',columns='classname',values='annotator_id',aggfunc=len).fillna(0)\n",
    "ClassPivot.head()"
   ],
   "metadata": {
    "collapsed": false
   }
  },
  {
   "cell_type": "code",
   "execution_count": 8,
   "outputs": [
    {
     "data": {
      "text/plain": "                             example_id  \\\n0  1e98cae3-27a1-4a20-82c8-7d0d1310da11   \n1  5dad4733-1522-4d40-b38e-815629c33073   \n2  fbfb9d28-29e2-4066-9012-db971816ef3c   \n3  48361556-520b-4a1f-9338-11d5292a6360   \n4  8315bdda-89cb-4351-94ce-31b074d3c4af   \n\n                                             content  \\\n0  The structure of the exterior wall against the...   \n1  in an evacuation area where the maximum number...   \n2  The selection of relevant critical situations ...   \n3  A  building  with  dwellings  or  accommodatio...   \n4  Distances may be exceeded by 20 per cent in a ...   \n\n                                  metadata  complete-regulatory  other  \n0     {'ID': '10_Finnish_Health-Humidity'}                  2.0    0.0  \n1           {'ID': '8_Finnish_FireSafety'}                  2.0    0.0  \n2              {'ID': '1_UK_Construction'}                  0.0    2.0  \n3  {'ID': '4_Finnish_AcousticEnvironment'}                  2.0    0.0  \n4           {'ID': '6_Finnish_FireSafety'}                  2.0    0.0  ",
      "text/html": "<div>\n<style scoped>\n    .dataframe tbody tr th:only-of-type {\n        vertical-align: middle;\n    }\n\n    .dataframe tbody tr th {\n        vertical-align: top;\n    }\n\n    .dataframe thead th {\n        text-align: right;\n    }\n</style>\n<table border=\"1\" class=\"dataframe\">\n  <thead>\n    <tr style=\"text-align: right;\">\n      <th></th>\n      <th>example_id</th>\n      <th>content</th>\n      <th>metadata</th>\n      <th>complete-regulatory</th>\n      <th>other</th>\n    </tr>\n  </thead>\n  <tbody>\n    <tr>\n      <th>0</th>\n      <td>1e98cae3-27a1-4a20-82c8-7d0d1310da11</td>\n      <td>The structure of the exterior wall against the...</td>\n      <td>{'ID': '10_Finnish_Health-Humidity'}</td>\n      <td>2.0</td>\n      <td>0.0</td>\n    </tr>\n    <tr>\n      <th>1</th>\n      <td>5dad4733-1522-4d40-b38e-815629c33073</td>\n      <td>in an evacuation area where the maximum number...</td>\n      <td>{'ID': '8_Finnish_FireSafety'}</td>\n      <td>2.0</td>\n      <td>0.0</td>\n    </tr>\n    <tr>\n      <th>2</th>\n      <td>fbfb9d28-29e2-4066-9012-db971816ef3c</td>\n      <td>The selection of relevant critical situations ...</td>\n      <td>{'ID': '1_UK_Construction'}</td>\n      <td>0.0</td>\n      <td>2.0</td>\n    </tr>\n    <tr>\n      <th>3</th>\n      <td>48361556-520b-4a1f-9338-11d5292a6360</td>\n      <td>A  building  with  dwellings  or  accommodatio...</td>\n      <td>{'ID': '4_Finnish_AcousticEnvironment'}</td>\n      <td>2.0</td>\n      <td>0.0</td>\n    </tr>\n    <tr>\n      <th>4</th>\n      <td>8315bdda-89cb-4351-94ce-31b074d3c4af</td>\n      <td>Distances may be exceeded by 20 per cent in a ...</td>\n      <td>{'ID': '6_Finnish_FireSafety'}</td>\n      <td>2.0</td>\n      <td>0.0</td>\n    </tr>\n  </tbody>\n</table>\n</div>"
     },
     "execution_count": 8,
     "metadata": {},
     "output_type": "execute_result"
    }
   ],
   "source": [
    "ExamplesWithClasses = pd.merge(Examples,ClassPivot,on='example_id')\n",
    "ExamplesWithClasses.head()"
   ],
   "metadata": {
    "collapsed": false
   }
  },
  {
   "cell_type": "code",
   "execution_count": 9,
   "outputs": [
    {
     "data": {
      "text/plain": "-2"
     },
     "execution_count": 9,
     "metadata": {},
     "output_type": "execute_result"
    }
   ],
   "source": [
    "class_columm_backward = -(ExamplesWithClasses.shape[1] - (ExamplesWithClasses.columns.get_loc(\"metadata\") + 1))\n",
    "class_columm_backward"
   ],
   "metadata": {
    "collapsed": false
   }
  },
  {
   "cell_type": "code",
   "execution_count": 10,
   "outputs": [
    {
     "data": {
      "text/plain": "   complete-regulatory  other\n0                  2.0    0.0\n1                  2.0    0.0\n2                  0.0    2.0\n3                  2.0    0.0\n4                  2.0    0.0",
      "text/html": "<div>\n<style scoped>\n    .dataframe tbody tr th:only-of-type {\n        vertical-align: middle;\n    }\n\n    .dataframe tbody tr th {\n        vertical-align: top;\n    }\n\n    .dataframe thead th {\n        text-align: right;\n    }\n</style>\n<table border=\"1\" class=\"dataframe\">\n  <thead>\n    <tr style=\"text-align: right;\">\n      <th></th>\n      <th>complete-regulatory</th>\n      <th>other</th>\n    </tr>\n  </thead>\n  <tbody>\n    <tr>\n      <th>0</th>\n      <td>2.0</td>\n      <td>0.0</td>\n    </tr>\n    <tr>\n      <th>1</th>\n      <td>2.0</td>\n      <td>0.0</td>\n    </tr>\n    <tr>\n      <th>2</th>\n      <td>0.0</td>\n      <td>2.0</td>\n    </tr>\n    <tr>\n      <th>3</th>\n      <td>2.0</td>\n      <td>0.0</td>\n    </tr>\n    <tr>\n      <th>4</th>\n      <td>2.0</td>\n      <td>0.0</td>\n    </tr>\n  </tbody>\n</table>\n</div>"
     },
     "execution_count": 10,
     "metadata": {},
     "output_type": "execute_result"
    }
   ],
   "source": [
    "Classes = ExamplesWithClasses.iloc[:,class_columm_backward:]\n",
    "Classes.head(5)"
   ],
   "metadata": {
    "collapsed": false
   }
  },
  {
   "cell_type": "code",
   "execution_count": 11,
   "outputs": [
    {
     "data": {
      "text/plain": "                             example_id  \\\n0  1e98cae3-27a1-4a20-82c8-7d0d1310da11   \n1  5dad4733-1522-4d40-b38e-815629c33073   \n2  fbfb9d28-29e2-4066-9012-db971816ef3c   \n3  48361556-520b-4a1f-9338-11d5292a6360   \n4  8315bdda-89cb-4351-94ce-31b074d3c4af   \n\n                                             content  \\\n0  The structure of the exterior wall against the...   \n1  in an evacuation area where the maximum number...   \n2  The selection of relevant critical situations ...   \n3  A  building  with  dwellings  or  accommodatio...   \n4  Distances may be exceeded by 20 per cent in a ...   \n\n                                  metadata  complete-regulatory  other  \\\n0     {'ID': '10_Finnish_Health-Humidity'}                  2.0    0.0   \n1           {'ID': '8_Finnish_FireSafety'}                  2.0    0.0   \n2              {'ID': '1_UK_Construction'}                  0.0    2.0   \n3  {'ID': '4_Finnish_AcousticEnvironment'}                  2.0    0.0   \n4           {'ID': '6_Finnish_FireSafety'}                  2.0    0.0   \n\n                 class  \n0  complete-regulatory  \n1  complete-regulatory  \n2                other  \n3  complete-regulatory  \n4  complete-regulatory  ",
      "text/html": "<div>\n<style scoped>\n    .dataframe tbody tr th:only-of-type {\n        vertical-align: middle;\n    }\n\n    .dataframe tbody tr th {\n        vertical-align: top;\n    }\n\n    .dataframe thead th {\n        text-align: right;\n    }\n</style>\n<table border=\"1\" class=\"dataframe\">\n  <thead>\n    <tr style=\"text-align: right;\">\n      <th></th>\n      <th>example_id</th>\n      <th>content</th>\n      <th>metadata</th>\n      <th>complete-regulatory</th>\n      <th>other</th>\n      <th>class</th>\n    </tr>\n  </thead>\n  <tbody>\n    <tr>\n      <th>0</th>\n      <td>1e98cae3-27a1-4a20-82c8-7d0d1310da11</td>\n      <td>The structure of the exterior wall against the...</td>\n      <td>{'ID': '10_Finnish_Health-Humidity'}</td>\n      <td>2.0</td>\n      <td>0.0</td>\n      <td>complete-regulatory</td>\n    </tr>\n    <tr>\n      <th>1</th>\n      <td>5dad4733-1522-4d40-b38e-815629c33073</td>\n      <td>in an evacuation area where the maximum number...</td>\n      <td>{'ID': '8_Finnish_FireSafety'}</td>\n      <td>2.0</td>\n      <td>0.0</td>\n      <td>complete-regulatory</td>\n    </tr>\n    <tr>\n      <th>2</th>\n      <td>fbfb9d28-29e2-4066-9012-db971816ef3c</td>\n      <td>The selection of relevant critical situations ...</td>\n      <td>{'ID': '1_UK_Construction'}</td>\n      <td>0.0</td>\n      <td>2.0</td>\n      <td>other</td>\n    </tr>\n    <tr>\n      <th>3</th>\n      <td>48361556-520b-4a1f-9338-11d5292a6360</td>\n      <td>A  building  with  dwellings  or  accommodatio...</td>\n      <td>{'ID': '4_Finnish_AcousticEnvironment'}</td>\n      <td>2.0</td>\n      <td>0.0</td>\n      <td>complete-regulatory</td>\n    </tr>\n    <tr>\n      <th>4</th>\n      <td>8315bdda-89cb-4351-94ce-31b074d3c4af</td>\n      <td>Distances may be exceeded by 20 per cent in a ...</td>\n      <td>{'ID': '6_Finnish_FireSafety'}</td>\n      <td>2.0</td>\n      <td>0.0</td>\n      <td>complete-regulatory</td>\n    </tr>\n  </tbody>\n</table>\n</div>"
     },
     "execution_count": 11,
     "metadata": {},
     "output_type": "execute_result"
    }
   ],
   "source": [
    "ExamplesWithClasses['class'] = Classes.idxmax(axis=1)\n",
    "ExamplesWithClasses.head(5)"
   ],
   "metadata": {
    "collapsed": false
   }
  },
  {
   "cell_type": "code",
   "execution_count": 12,
   "outputs": [
    {
     "data": {
      "text/plain": "                             example_id  \\\n0  1e98cae3-27a1-4a20-82c8-7d0d1310da11   \n1  5dad4733-1522-4d40-b38e-815629c33073   \n2  fbfb9d28-29e2-4066-9012-db971816ef3c   \n3  48361556-520b-4a1f-9338-11d5292a6360   \n4  8315bdda-89cb-4351-94ce-31b074d3c4af   \n\n                                             content  \\\n0  The structure of the exterior wall against the...   \n1  in an evacuation area where the maximum number...   \n2  The selection of relevant critical situations ...   \n3  A  building  with  dwellings  or  accommodatio...   \n4  Distances may be exceeded by 20 per cent in a ...   \n\n                                  metadata  complete-regulatory  other  \\\n0     {'ID': '10_Finnish_Health-Humidity'}                  2.0    0.0   \n1           {'ID': '8_Finnish_FireSafety'}                  2.0    0.0   \n2              {'ID': '1_UK_Construction'}                  0.0    2.0   \n3  {'ID': '4_Finnish_AcousticEnvironment'}                  2.0    0.0   \n4           {'ID': '6_Finnish_FireSafety'}                  2.0    0.0   \n\n                 class  vote  \n0  complete-regulatory   2.0  \n1  complete-regulatory   2.0  \n2                other   2.0  \n3  complete-regulatory   2.0  \n4  complete-regulatory   2.0  ",
      "text/html": "<div>\n<style scoped>\n    .dataframe tbody tr th:only-of-type {\n        vertical-align: middle;\n    }\n\n    .dataframe tbody tr th {\n        vertical-align: top;\n    }\n\n    .dataframe thead th {\n        text-align: right;\n    }\n</style>\n<table border=\"1\" class=\"dataframe\">\n  <thead>\n    <tr style=\"text-align: right;\">\n      <th></th>\n      <th>example_id</th>\n      <th>content</th>\n      <th>metadata</th>\n      <th>complete-regulatory</th>\n      <th>other</th>\n      <th>class</th>\n      <th>vote</th>\n    </tr>\n  </thead>\n  <tbody>\n    <tr>\n      <th>0</th>\n      <td>1e98cae3-27a1-4a20-82c8-7d0d1310da11</td>\n      <td>The structure of the exterior wall against the...</td>\n      <td>{'ID': '10_Finnish_Health-Humidity'}</td>\n      <td>2.0</td>\n      <td>0.0</td>\n      <td>complete-regulatory</td>\n      <td>2.0</td>\n    </tr>\n    <tr>\n      <th>1</th>\n      <td>5dad4733-1522-4d40-b38e-815629c33073</td>\n      <td>in an evacuation area where the maximum number...</td>\n      <td>{'ID': '8_Finnish_FireSafety'}</td>\n      <td>2.0</td>\n      <td>0.0</td>\n      <td>complete-regulatory</td>\n      <td>2.0</td>\n    </tr>\n    <tr>\n      <th>2</th>\n      <td>fbfb9d28-29e2-4066-9012-db971816ef3c</td>\n      <td>The selection of relevant critical situations ...</td>\n      <td>{'ID': '1_UK_Construction'}</td>\n      <td>0.0</td>\n      <td>2.0</td>\n      <td>other</td>\n      <td>2.0</td>\n    </tr>\n    <tr>\n      <th>3</th>\n      <td>48361556-520b-4a1f-9338-11d5292a6360</td>\n      <td>A  building  with  dwellings  or  accommodatio...</td>\n      <td>{'ID': '4_Finnish_AcousticEnvironment'}</td>\n      <td>2.0</td>\n      <td>0.0</td>\n      <td>complete-regulatory</td>\n      <td>2.0</td>\n    </tr>\n    <tr>\n      <th>4</th>\n      <td>8315bdda-89cb-4351-94ce-31b074d3c4af</td>\n      <td>Distances may be exceeded by 20 per cent in a ...</td>\n      <td>{'ID': '6_Finnish_FireSafety'}</td>\n      <td>2.0</td>\n      <td>0.0</td>\n      <td>complete-regulatory</td>\n      <td>2.0</td>\n    </tr>\n  </tbody>\n</table>\n</div>"
     },
     "execution_count": 12,
     "metadata": {},
     "output_type": "execute_result"
    }
   ],
   "source": [
    "ExamplesWithClasses['vote'] = Classes.max(axis=1)\n",
    "ExamplesWithClasses.head(5)"
   ],
   "metadata": {
    "collapsed": false
   }
  },
  {
   "cell_type": "code",
   "execution_count": 31,
   "outputs": [],
   "source": [
    "# ExamplesWithClasses.to_csv(classes_output, encoding='utf-8', index=False)"
   ],
   "metadata": {
    "collapsed": false
   }
  },
  {
   "cell_type": "code",
   "execution_count": 13,
   "outputs": [
    {
     "data": {
      "text/plain": "                             example_id  \\\n0  0cdc1d50-e346-469a-8528-546e35cf5b95   \n1  1e98cae3-27a1-4a20-82c8-7d0d1310da11   \n2  1f9970ac-b9a8-4e15-bdc9-7a247e0356b5   \n3  40b22cfb-7d06-4d18-972b-2706d689d552   \n4  48361556-520b-4a1f-9338-11d5292a6360   \n\n                                             content  \\\n0  The wall ties should have a horizontal spacing...   \n1  The structure of the exterior wall against the...   \n2  The width of an exit must be at least 1,200 mi...   \n3  Areas  belonging  to  fire  load  category  le...   \n4  A  building  with  dwellings  or  accommodatio...   \n\n                                  metadata  complete-regulatory  other  \\\n0              {'ID': '2_UK_Construction'}                  2.0    0.0   \n1     {'ID': '10_Finnish_Health-Humidity'}                  2.0    0.0   \n2           {'ID': '7_Finnish_FireSafety'}                  2.0    0.0   \n3           {'ID': '5_Finnish_FireSafety'}                  0.0    2.0   \n4  {'ID': '4_Finnish_AcousticEnvironment'}                  2.0    0.0   \n\n                 class  vote   decision  \n0  complete-regulatory   2.0  finalised  \n1  complete-regulatory   2.0  finalised  \n2  complete-regulatory   2.0  finalised  \n3                other   2.0  finalised  \n4  complete-regulatory   2.0  finalised  ",
      "text/html": "<div>\n<style scoped>\n    .dataframe tbody tr th:only-of-type {\n        vertical-align: middle;\n    }\n\n    .dataframe tbody tr th {\n        vertical-align: top;\n    }\n\n    .dataframe thead th {\n        text-align: right;\n    }\n</style>\n<table border=\"1\" class=\"dataframe\">\n  <thead>\n    <tr style=\"text-align: right;\">\n      <th></th>\n      <th>example_id</th>\n      <th>content</th>\n      <th>metadata</th>\n      <th>complete-regulatory</th>\n      <th>other</th>\n      <th>class</th>\n      <th>vote</th>\n      <th>decision</th>\n    </tr>\n  </thead>\n  <tbody>\n    <tr>\n      <th>0</th>\n      <td>0cdc1d50-e346-469a-8528-546e35cf5b95</td>\n      <td>The wall ties should have a horizontal spacing...</td>\n      <td>{'ID': '2_UK_Construction'}</td>\n      <td>2.0</td>\n      <td>0.0</td>\n      <td>complete-regulatory</td>\n      <td>2.0</td>\n      <td>finalised</td>\n    </tr>\n    <tr>\n      <th>1</th>\n      <td>1e98cae3-27a1-4a20-82c8-7d0d1310da11</td>\n      <td>The structure of the exterior wall against the...</td>\n      <td>{'ID': '10_Finnish_Health-Humidity'}</td>\n      <td>2.0</td>\n      <td>0.0</td>\n      <td>complete-regulatory</td>\n      <td>2.0</td>\n      <td>finalised</td>\n    </tr>\n    <tr>\n      <th>2</th>\n      <td>1f9970ac-b9a8-4e15-bdc9-7a247e0356b5</td>\n      <td>The width of an exit must be at least 1,200 mi...</td>\n      <td>{'ID': '7_Finnish_FireSafety'}</td>\n      <td>2.0</td>\n      <td>0.0</td>\n      <td>complete-regulatory</td>\n      <td>2.0</td>\n      <td>finalised</td>\n    </tr>\n    <tr>\n      <th>3</th>\n      <td>40b22cfb-7d06-4d18-972b-2706d689d552</td>\n      <td>Areas  belonging  to  fire  load  category  le...</td>\n      <td>{'ID': '5_Finnish_FireSafety'}</td>\n      <td>0.0</td>\n      <td>2.0</td>\n      <td>other</td>\n      <td>2.0</td>\n      <td>finalised</td>\n    </tr>\n    <tr>\n      <th>4</th>\n      <td>48361556-520b-4a1f-9338-11d5292a6360</td>\n      <td>A  building  with  dwellings  or  accommodatio...</td>\n      <td>{'ID': '4_Finnish_AcousticEnvironment'}</td>\n      <td>2.0</td>\n      <td>0.0</td>\n      <td>complete-regulatory</td>\n      <td>2.0</td>\n      <td>finalised</td>\n    </tr>\n  </tbody>\n</table>\n</div>"
     },
     "execution_count": 13,
     "metadata": {},
     "output_type": "execute_result"
    }
   ],
   "source": [
    "ExamplesWithClasses['decision'] = np.where(ExamplesWithClasses['vote'] >= majority_vote, 'finalised', 'pending')\n",
    "ExamplesWithClasses.sort_values(by=['example_id'], inplace=True, ignore_index=True)\n",
    "ExamplesWithClasses.head()"
   ],
   "metadata": {
    "collapsed": false
   }
  },
  {
   "cell_type": "code",
   "execution_count": 14,
   "outputs": [],
   "source": [
    "ExamplesWithClasses.to_csv(classes_output, encoding='utf-8', index=False)"
   ],
   "metadata": {
    "collapsed": false
   }
  },
  {
   "cell_type": "markdown",
   "source": [
    "# Span Level\n",
    "https://guide.lighttag.io/in-depth/working_with_results/#Annotations"
   ],
   "metadata": {
    "collapsed": false
   }
  },
  {
   "cell_type": "code",
   "execution_count": 23,
   "outputs": [],
   "source": [
    "all_annotations = sum(map(lambda x:x['annotations'],examples),[])"
   ],
   "metadata": {
    "collapsed": false
   }
  },
  {
   "cell_type": "code",
   "execution_count": 24,
   "outputs": [
    {
     "data": {
      "text/plain": "tag                                                 object  property  quality  \\\nvalue                                                                           \n15                                                     0.0       0.0      0.0   \n15 of the sum total of the floor  plate areas  ...     0.0       0.0      0.0   \n2.0 m3/(h m2)                                          0.0       0.0      0.0   \n200 m2                                                 0.0       0.0      0.0   \n25                                                     0.0       0.0      0.0   \n\ntag                                                 value  \nvalue                                                      \n15                                                    1.0  \n15 of the sum total of the floor  plate areas  ...    1.0  \n2.0 m3/(h m2)                                         1.0  \n200 m2                                                1.0  \n25                                                    1.0  ",
      "text/html": "<div>\n<style scoped>\n    .dataframe tbody tr th:only-of-type {\n        vertical-align: middle;\n    }\n\n    .dataframe tbody tr th {\n        vertical-align: top;\n    }\n\n    .dataframe thead th {\n        text-align: right;\n    }\n</style>\n<table border=\"1\" class=\"dataframe\">\n  <thead>\n    <tr style=\"text-align: right;\">\n      <th>tag</th>\n      <th>object</th>\n      <th>property</th>\n      <th>quality</th>\n      <th>value</th>\n    </tr>\n    <tr>\n      <th>value</th>\n      <th></th>\n      <th></th>\n      <th></th>\n      <th></th>\n    </tr>\n  </thead>\n  <tbody>\n    <tr>\n      <th>15</th>\n      <td>0.0</td>\n      <td>0.0</td>\n      <td>0.0</td>\n      <td>1.0</td>\n    </tr>\n    <tr>\n      <th>15 of the sum total of the floor  plate areas  of  the  buildings  storeys that  are  fully  or in  part  above  the  ground</th>\n      <td>0.0</td>\n      <td>0.0</td>\n      <td>0.0</td>\n      <td>1.0</td>\n    </tr>\n    <tr>\n      <th>2.0 m3/(h m2)</th>\n      <td>0.0</td>\n      <td>0.0</td>\n      <td>0.0</td>\n      <td>1.0</td>\n    </tr>\n    <tr>\n      <th>200 m2</th>\n      <td>0.0</td>\n      <td>0.0</td>\n      <td>0.0</td>\n      <td>1.0</td>\n    </tr>\n    <tr>\n      <th>25</th>\n      <td>0.0</td>\n      <td>0.0</td>\n      <td>0.0</td>\n      <td>1.0</td>\n    </tr>\n  </tbody>\n</table>\n</div>"
     },
     "execution_count": 24,
     "metadata": {},
     "output_type": "execute_result"
    }
   ],
   "source": [
    "Annotations = pd.DataFrame(all_annotations)\n",
    "Annotations.pivot_table(index='value',columns='tag',values='example_id',aggfunc=len).fillna(0).head()"
   ],
   "metadata": {
    "collapsed": false
   }
  },
  {
   "cell_type": "code",
   "execution_count": 25,
   "outputs": [
    {
     "name": "stderr",
     "output_type": "stream",
     "text": [
      "C:\\Users\\id127897\\AppData\\Local\\Temp\\ipykernel_8404\\3389355308.py:1: FutureWarning: pandas.io.json.json_normalize is deprecated, use pandas.json_normalize instead.\n",
      "  IAAData = pd.io.json.json_normalize(all_annotations,meta=['tagged_token_id','example_id','tag','value', 'start', 'end'],\n"
     ]
    },
    {
     "data": {
      "text/plain": "                       annotator                      timestamp  annotator_id  \\\n0            maria.hedblom@ju.se  2023-04-28T11:32:53.116+00:00             4   \n1     pooyan.parsafard@gmail.com  2023-04-27T22:13:27.199+00:00             6   \n2  hansi.hettiarachchi@bcu.ac.uk  2023-04-28T18:57:08.095+00:00             1   \n3            maria.hedblom@ju.se  2023-04-28T11:32:15.284+00:00             4   \n4  hansi.hettiarachchi@bcu.ac.uk  2023-04-28T18:57:01.385+00:00             1   \n\n                        tagged_token_id                            example_id  \\\n0  e462555a-a413-469f-b3b1-4a165a3ee2ba  eeb4239f-3819-475c-ad20-756bed80c4ff   \n1  e462555a-a413-469f-b3b1-4a165a3ee2ba  eeb4239f-3819-475c-ad20-756bed80c4ff   \n2  e8668ccd-0035-47a5-acaa-fbf9f045d2d5  eeb4239f-3819-475c-ad20-756bed80c4ff   \n3  10edc284-0858-45a4-98ea-4131f5f686ba  eeb4239f-3819-475c-ad20-756bed80c4ff   \n4  31628a5b-2adf-4407-bb99-df9b09ab62d6  eeb4239f-3819-475c-ad20-756bed80c4ff   \n\n        tag                                value start  end  \n0    object         buildings ventilation system   130  158  \n1    object         buildings ventilation system   130  158  \n2   quality  In reference heat loss calculations     0   35  \n3  property   annual efficiency of heat recovery    59   93  \n4    object                   ventilation system   140  158  ",
      "text/html": "<div>\n<style scoped>\n    .dataframe tbody tr th:only-of-type {\n        vertical-align: middle;\n    }\n\n    .dataframe tbody tr th {\n        vertical-align: top;\n    }\n\n    .dataframe thead th {\n        text-align: right;\n    }\n</style>\n<table border=\"1\" class=\"dataframe\">\n  <thead>\n    <tr style=\"text-align: right;\">\n      <th></th>\n      <th>annotator</th>\n      <th>timestamp</th>\n      <th>annotator_id</th>\n      <th>tagged_token_id</th>\n      <th>example_id</th>\n      <th>tag</th>\n      <th>value</th>\n      <th>start</th>\n      <th>end</th>\n    </tr>\n  </thead>\n  <tbody>\n    <tr>\n      <th>0</th>\n      <td>maria.hedblom@ju.se</td>\n      <td>2023-04-28T11:32:53.116+00:00</td>\n      <td>4</td>\n      <td>e462555a-a413-469f-b3b1-4a165a3ee2ba</td>\n      <td>eeb4239f-3819-475c-ad20-756bed80c4ff</td>\n      <td>object</td>\n      <td>buildings ventilation system</td>\n      <td>130</td>\n      <td>158</td>\n    </tr>\n    <tr>\n      <th>1</th>\n      <td>pooyan.parsafard@gmail.com</td>\n      <td>2023-04-27T22:13:27.199+00:00</td>\n      <td>6</td>\n      <td>e462555a-a413-469f-b3b1-4a165a3ee2ba</td>\n      <td>eeb4239f-3819-475c-ad20-756bed80c4ff</td>\n      <td>object</td>\n      <td>buildings ventilation system</td>\n      <td>130</td>\n      <td>158</td>\n    </tr>\n    <tr>\n      <th>2</th>\n      <td>hansi.hettiarachchi@bcu.ac.uk</td>\n      <td>2023-04-28T18:57:08.095+00:00</td>\n      <td>1</td>\n      <td>e8668ccd-0035-47a5-acaa-fbf9f045d2d5</td>\n      <td>eeb4239f-3819-475c-ad20-756bed80c4ff</td>\n      <td>quality</td>\n      <td>In reference heat loss calculations</td>\n      <td>0</td>\n      <td>35</td>\n    </tr>\n    <tr>\n      <th>3</th>\n      <td>maria.hedblom@ju.se</td>\n      <td>2023-04-28T11:32:15.284+00:00</td>\n      <td>4</td>\n      <td>10edc284-0858-45a4-98ea-4131f5f686ba</td>\n      <td>eeb4239f-3819-475c-ad20-756bed80c4ff</td>\n      <td>property</td>\n      <td>annual efficiency of heat recovery</td>\n      <td>59</td>\n      <td>93</td>\n    </tr>\n    <tr>\n      <th>4</th>\n      <td>hansi.hettiarachchi@bcu.ac.uk</td>\n      <td>2023-04-28T18:57:01.385+00:00</td>\n      <td>1</td>\n      <td>31628a5b-2adf-4407-bb99-df9b09ab62d6</td>\n      <td>eeb4239f-3819-475c-ad20-756bed80c4ff</td>\n      <td>object</td>\n      <td>ventilation system</td>\n      <td>140</td>\n      <td>158</td>\n    </tr>\n  </tbody>\n</table>\n</div>"
     },
     "execution_count": 25,
     "metadata": {},
     "output_type": "execute_result"
    }
   ],
   "source": [
    "IAAData = pd.io.json.json_normalize(all_annotations,meta=['tagged_token_id','example_id','tag','value', 'start', 'end'],\n",
    "                                                          record_path='annotated_by')\n",
    "IAAData.head()"
   ],
   "metadata": {
    "collapsed": false
   }
  },
  {
   "cell_type": "code",
   "execution_count": 26,
   "outputs": [
    {
     "data": {
      "text/plain": "                             example_id                       tagged_token_id  \\\n0  eeb4239f-3819-475c-ad20-756bed80c4ff  e462555a-a413-469f-b3b1-4a165a3ee2ba   \n1  eeb4239f-3819-475c-ad20-756bed80c4ff  e462555a-a413-469f-b3b1-4a165a3ee2ba   \n2  eeb4239f-3819-475c-ad20-756bed80c4ff  e8668ccd-0035-47a5-acaa-fbf9f045d2d5   \n3  eeb4239f-3819-475c-ad20-756bed80c4ff  10edc284-0858-45a4-98ea-4131f5f686ba   \n4  eeb4239f-3819-475c-ad20-756bed80c4ff  31628a5b-2adf-4407-bb99-df9b09ab62d6   \n\n   annotator_id start  end                                value       tag  \n0             4   130  158         buildings ventilation system    object  \n1             6   130  158         buildings ventilation system    object  \n2             1     0   35  In reference heat loss calculations   quality  \n3             4    59   93   annual efficiency of heat recovery  property  \n4             1   140  158                   ventilation system    object  ",
      "text/html": "<div>\n<style scoped>\n    .dataframe tbody tr th:only-of-type {\n        vertical-align: middle;\n    }\n\n    .dataframe tbody tr th {\n        vertical-align: top;\n    }\n\n    .dataframe thead th {\n        text-align: right;\n    }\n</style>\n<table border=\"1\" class=\"dataframe\">\n  <thead>\n    <tr style=\"text-align: right;\">\n      <th></th>\n      <th>example_id</th>\n      <th>tagged_token_id</th>\n      <th>annotator_id</th>\n      <th>start</th>\n      <th>end</th>\n      <th>value</th>\n      <th>tag</th>\n    </tr>\n  </thead>\n  <tbody>\n    <tr>\n      <th>0</th>\n      <td>eeb4239f-3819-475c-ad20-756bed80c4ff</td>\n      <td>e462555a-a413-469f-b3b1-4a165a3ee2ba</td>\n      <td>4</td>\n      <td>130</td>\n      <td>158</td>\n      <td>buildings ventilation system</td>\n      <td>object</td>\n    </tr>\n    <tr>\n      <th>1</th>\n      <td>eeb4239f-3819-475c-ad20-756bed80c4ff</td>\n      <td>e462555a-a413-469f-b3b1-4a165a3ee2ba</td>\n      <td>6</td>\n      <td>130</td>\n      <td>158</td>\n      <td>buildings ventilation system</td>\n      <td>object</td>\n    </tr>\n    <tr>\n      <th>2</th>\n      <td>eeb4239f-3819-475c-ad20-756bed80c4ff</td>\n      <td>e8668ccd-0035-47a5-acaa-fbf9f045d2d5</td>\n      <td>1</td>\n      <td>0</td>\n      <td>35</td>\n      <td>In reference heat loss calculations</td>\n      <td>quality</td>\n    </tr>\n    <tr>\n      <th>3</th>\n      <td>eeb4239f-3819-475c-ad20-756bed80c4ff</td>\n      <td>10edc284-0858-45a4-98ea-4131f5f686ba</td>\n      <td>4</td>\n      <td>59</td>\n      <td>93</td>\n      <td>annual efficiency of heat recovery</td>\n      <td>property</td>\n    </tr>\n    <tr>\n      <th>4</th>\n      <td>eeb4239f-3819-475c-ad20-756bed80c4ff</td>\n      <td>31628a5b-2adf-4407-bb99-df9b09ab62d6</td>\n      <td>1</td>\n      <td>140</td>\n      <td>158</td>\n      <td>ventilation system</td>\n      <td>object</td>\n    </tr>\n  </tbody>\n</table>\n</div>"
     },
     "execution_count": 26,
     "metadata": {},
     "output_type": "execute_result"
    }
   ],
   "source": [
    "Annotations = IAAData[['example_id', 'tagged_token_id', 'annotator_id', 'start', 'end', 'value', 'tag']]\n",
    "Annotations.head()"
   ],
   "metadata": {
    "collapsed": false
   }
  },
  {
   "cell_type": "code",
   "execution_count": 27,
   "outputs": [
    {
     "data": {
      "text/plain": "                        tagged_token_id annotator_id  vote\n0  01b35266-4c3f-47b8-b822-4c3f23777d42          {4}     1\n1  02ba1bcb-aa03-40ae-9d63-3eddb0102d11          {6}     1\n2  0359f9a0-73bb-4101-834b-6d7539c392b1          {4}     1\n3  03b58272-bdd1-4182-9860-06d6df39111a          {4}     1\n4  0506bc11-8fe3-4eba-8f65-ad379c5c06da       {4, 6}     2",
      "text/html": "<div>\n<style scoped>\n    .dataframe tbody tr th:only-of-type {\n        vertical-align: middle;\n    }\n\n    .dataframe tbody tr th {\n        vertical-align: top;\n    }\n\n    .dataframe thead th {\n        text-align: right;\n    }\n</style>\n<table border=\"1\" class=\"dataframe\">\n  <thead>\n    <tr style=\"text-align: right;\">\n      <th></th>\n      <th>tagged_token_id</th>\n      <th>annotator_id</th>\n      <th>vote</th>\n    </tr>\n  </thead>\n  <tbody>\n    <tr>\n      <th>0</th>\n      <td>01b35266-4c3f-47b8-b822-4c3f23777d42</td>\n      <td>{4}</td>\n      <td>1</td>\n    </tr>\n    <tr>\n      <th>1</th>\n      <td>02ba1bcb-aa03-40ae-9d63-3eddb0102d11</td>\n      <td>{6}</td>\n      <td>1</td>\n    </tr>\n    <tr>\n      <th>2</th>\n      <td>0359f9a0-73bb-4101-834b-6d7539c392b1</td>\n      <td>{4}</td>\n      <td>1</td>\n    </tr>\n    <tr>\n      <th>3</th>\n      <td>03b58272-bdd1-4182-9860-06d6df39111a</td>\n      <td>{4}</td>\n      <td>1</td>\n    </tr>\n    <tr>\n      <th>4</th>\n      <td>0506bc11-8fe3-4eba-8f65-ad379c5c06da</td>\n      <td>{4, 6}</td>\n      <td>2</td>\n    </tr>\n  </tbody>\n</table>\n</div>"
     },
     "execution_count": 27,
     "metadata": {},
     "output_type": "execute_result"
    }
   ],
   "source": [
    "Temp1 = Annotations.groupby('tagged_token_id').annotator_id.apply(set).reset_index()\n",
    "\n",
    "Temp2 = Annotations.groupby('tagged_token_id').annotator_id.count().reset_index()\n",
    "Temp2 = Temp2.rename(columns={\"annotator_id\": \"vote\"})\n",
    "\n",
    "Vote = pd.merge(Temp1,Temp2,on='tagged_token_id')\n",
    "Vote.head()"
   ],
   "metadata": {
    "collapsed": false
   }
  },
  {
   "cell_type": "code",
   "execution_count": 28,
   "outputs": [
    {
     "name": "stdout",
     "output_type": "stream",
     "text": [
      "(247, 6)\n"
     ]
    },
    {
     "data": {
      "text/plain": "                             example_id                       tagged_token_id  \\\n0  eeb4239f-3819-475c-ad20-756bed80c4ff  e462555a-a413-469f-b3b1-4a165a3ee2ba   \n2  eeb4239f-3819-475c-ad20-756bed80c4ff  e8668ccd-0035-47a5-acaa-fbf9f045d2d5   \n3  eeb4239f-3819-475c-ad20-756bed80c4ff  10edc284-0858-45a4-98ea-4131f5f686ba   \n4  eeb4239f-3819-475c-ad20-756bed80c4ff  31628a5b-2adf-4407-bb99-df9b09ab62d6   \n5  eeb4239f-3819-475c-ad20-756bed80c4ff  793914fd-7ea1-45f9-990b-0baaa34f41ec   \n\n  start  end                                value       tag  \n0   130  158         buildings ventilation system    object  \n2     0   35  In reference heat loss calculations   quality  \n3    59   93   annual efficiency of heat recovery  property  \n4   140  158                   ventilation system    object  \n5   130  139                            buildings    object  ",
      "text/html": "<div>\n<style scoped>\n    .dataframe tbody tr th:only-of-type {\n        vertical-align: middle;\n    }\n\n    .dataframe tbody tr th {\n        vertical-align: top;\n    }\n\n    .dataframe thead th {\n        text-align: right;\n    }\n</style>\n<table border=\"1\" class=\"dataframe\">\n  <thead>\n    <tr style=\"text-align: right;\">\n      <th></th>\n      <th>example_id</th>\n      <th>tagged_token_id</th>\n      <th>start</th>\n      <th>end</th>\n      <th>value</th>\n      <th>tag</th>\n    </tr>\n  </thead>\n  <tbody>\n    <tr>\n      <th>0</th>\n      <td>eeb4239f-3819-475c-ad20-756bed80c4ff</td>\n      <td>e462555a-a413-469f-b3b1-4a165a3ee2ba</td>\n      <td>130</td>\n      <td>158</td>\n      <td>buildings ventilation system</td>\n      <td>object</td>\n    </tr>\n    <tr>\n      <th>2</th>\n      <td>eeb4239f-3819-475c-ad20-756bed80c4ff</td>\n      <td>e8668ccd-0035-47a5-acaa-fbf9f045d2d5</td>\n      <td>0</td>\n      <td>35</td>\n      <td>In reference heat loss calculations</td>\n      <td>quality</td>\n    </tr>\n    <tr>\n      <th>3</th>\n      <td>eeb4239f-3819-475c-ad20-756bed80c4ff</td>\n      <td>10edc284-0858-45a4-98ea-4131f5f686ba</td>\n      <td>59</td>\n      <td>93</td>\n      <td>annual efficiency of heat recovery</td>\n      <td>property</td>\n    </tr>\n    <tr>\n      <th>4</th>\n      <td>eeb4239f-3819-475c-ad20-756bed80c4ff</td>\n      <td>31628a5b-2adf-4407-bb99-df9b09ab62d6</td>\n      <td>140</td>\n      <td>158</td>\n      <td>ventilation system</td>\n      <td>object</td>\n    </tr>\n    <tr>\n      <th>5</th>\n      <td>eeb4239f-3819-475c-ad20-756bed80c4ff</td>\n      <td>793914fd-7ea1-45f9-990b-0baaa34f41ec</td>\n      <td>130</td>\n      <td>139</td>\n      <td>buildings</td>\n      <td>object</td>\n    </tr>\n  </tbody>\n</table>\n</div>"
     },
     "execution_count": 28,
     "metadata": {},
     "output_type": "execute_result"
    }
   ],
   "source": [
    "Spans = Annotations.drop(['annotator_id'], axis=1)\n",
    "Spans.drop_duplicates(inplace=True)\n",
    "print(Spans.shape)\n",
    "Spans.head()"
   ],
   "metadata": {
    "collapsed": false
   }
  },
  {
   "cell_type": "code",
   "execution_count": 29,
   "outputs": [
    {
     "name": "stdout",
     "output_type": "stream",
     "text": [
      "(247, 8)\n"
     ]
    },
    {
     "data": {
      "text/plain": "                              example_id  \\\n0   eeb4239f-3819-475c-ad20-756bed80c4ff   \n1   eeb4239f-3819-475c-ad20-756bed80c4ff   \n2   eeb4239f-3819-475c-ad20-756bed80c4ff   \n3   eeb4239f-3819-475c-ad20-756bed80c4ff   \n4   eeb4239f-3819-475c-ad20-756bed80c4ff   \n5   eeb4239f-3819-475c-ad20-756bed80c4ff   \n6   eeb4239f-3819-475c-ad20-756bed80c4ff   \n7   eeb4239f-3819-475c-ad20-756bed80c4ff   \n8   eeb4239f-3819-475c-ad20-756bed80c4ff   \n9   efd2d371-97de-4d5e-af06-e404ff71f316   \n10  efd2d371-97de-4d5e-af06-e404ff71f316   \n11  efd2d371-97de-4d5e-af06-e404ff71f316   \n12  efd2d371-97de-4d5e-af06-e404ff71f316   \n13  efd2d371-97de-4d5e-af06-e404ff71f316   \n14  efd2d371-97de-4d5e-af06-e404ff71f316   \n15  efd2d371-97de-4d5e-af06-e404ff71f316   \n16  efd2d371-97de-4d5e-af06-e404ff71f316   \n17  efd2d371-97de-4d5e-af06-e404ff71f316   \n18  efd2d371-97de-4d5e-af06-e404ff71f316   \n19  efe70fd9-5cdd-4586-9ebc-73c2960b1e00   \n\n                         tagged_token_id start  end  \\\n0   e462555a-a413-469f-b3b1-4a165a3ee2ba   130  158   \n1   e8668ccd-0035-47a5-acaa-fbf9f045d2d5     0   35   \n2   10edc284-0858-45a4-98ea-4131f5f686ba    59   93   \n3   31628a5b-2adf-4407-bb99-df9b09ab62d6   140  158   \n4   793914fd-7ea1-45f9-990b-0baaa34f41ec   130  139   \n5   7a0d3f18-a514-4043-bbfa-f8ef610b0d91     3   35   \n6   7f1ae410-339c-45c8-bb31-c4fb9373bae8    59  122   \n7   89f9f8f8-e677-458c-b6e0-8f0b7ee0c625     3   35   \n8   e2d1b75a-f90c-4637-a880-6448770535a3   168  170   \n9   d349f07c-9f86-47db-a512-b4fdfac2c856    44   53   \n10  e6dd3c06-ea57-4d34-a29c-db9be23c8d2a    18   24   \n11  32221cce-640f-43a0-873e-1bd038f51460    63  107   \n12  64b4c314-5540-4fa9-931c-305e1ce2571d    85  107   \n13  75e06119-b428-4d62-90b5-32190a96f0bb     4   10   \n14  8a1c9ce4-2d6b-4728-94e4-ed30b790a40d    44   53   \n15  8fe70fbe-7627-4d38-8edb-0a9dbb8de68a     4   53   \n16  9af51392-9e72-4e2c-b414-0ffa700e80fd    18   40   \n17  c37d3833-4531-4ae0-a5e1-d3f48b1c0fa3    29   40   \n18  c4d5ec8e-af1f-4457-8a9d-cc113bad86e3    85  107   \n19  96cb1010-df04-4e73-b582-9c555fc3759b    18   27   \n\n                                                value       tag annotator_id  \\\n0                        buildings ventilation system    object       {4, 6}   \n1                 In reference heat loss calculations   quality          {1}   \n2                  annual efficiency of heat recovery  property          {4}   \n3                                  ventilation system    object          {1}   \n4                                           buildings    object          {1}   \n5                    reference heat loss calculations   quality          {6}   \n6   annual efficiency of heat recovery from ventil...  property       {1, 6}   \n7                    reference heat loss calculations    object          {4}   \n8                                                  55     value    {1, 4, 6}   \n9                                           heat loss  property          {4}   \n10                                             ground    object          {4}   \n11       taken into account in heat loss calculations   quality          {1}   \n12                             heat loss calculations  property          {4}   \n13                                             impact  property       {4, 6}   \n14                                          heat loss   quality          {6}   \n15  impact of the ground and crawl space on heat loss  property          {1}   \n16                             ground and crawl space    object          {6}   \n17                                        crawl space    object          {4}   \n18                             heat loss calculations   quality          {6}   \n19                                          kept open   quality          {4}   \n\n    vote  \n0      2  \n1      1  \n2      1  \n3      1  \n4      1  \n5      1  \n6      2  \n7      1  \n8      3  \n9      1  \n10     1  \n11     1  \n12     1  \n13     2  \n14     1  \n15     1  \n16     1  \n17     1  \n18     1  \n19     1  ",
      "text/html": "<div>\n<style scoped>\n    .dataframe tbody tr th:only-of-type {\n        vertical-align: middle;\n    }\n\n    .dataframe tbody tr th {\n        vertical-align: top;\n    }\n\n    .dataframe thead th {\n        text-align: right;\n    }\n</style>\n<table border=\"1\" class=\"dataframe\">\n  <thead>\n    <tr style=\"text-align: right;\">\n      <th></th>\n      <th>example_id</th>\n      <th>tagged_token_id</th>\n      <th>start</th>\n      <th>end</th>\n      <th>value</th>\n      <th>tag</th>\n      <th>annotator_id</th>\n      <th>vote</th>\n    </tr>\n  </thead>\n  <tbody>\n    <tr>\n      <th>0</th>\n      <td>eeb4239f-3819-475c-ad20-756bed80c4ff</td>\n      <td>e462555a-a413-469f-b3b1-4a165a3ee2ba</td>\n      <td>130</td>\n      <td>158</td>\n      <td>buildings ventilation system</td>\n      <td>object</td>\n      <td>{4, 6}</td>\n      <td>2</td>\n    </tr>\n    <tr>\n      <th>1</th>\n      <td>eeb4239f-3819-475c-ad20-756bed80c4ff</td>\n      <td>e8668ccd-0035-47a5-acaa-fbf9f045d2d5</td>\n      <td>0</td>\n      <td>35</td>\n      <td>In reference heat loss calculations</td>\n      <td>quality</td>\n      <td>{1}</td>\n      <td>1</td>\n    </tr>\n    <tr>\n      <th>2</th>\n      <td>eeb4239f-3819-475c-ad20-756bed80c4ff</td>\n      <td>10edc284-0858-45a4-98ea-4131f5f686ba</td>\n      <td>59</td>\n      <td>93</td>\n      <td>annual efficiency of heat recovery</td>\n      <td>property</td>\n      <td>{4}</td>\n      <td>1</td>\n    </tr>\n    <tr>\n      <th>3</th>\n      <td>eeb4239f-3819-475c-ad20-756bed80c4ff</td>\n      <td>31628a5b-2adf-4407-bb99-df9b09ab62d6</td>\n      <td>140</td>\n      <td>158</td>\n      <td>ventilation system</td>\n      <td>object</td>\n      <td>{1}</td>\n      <td>1</td>\n    </tr>\n    <tr>\n      <th>4</th>\n      <td>eeb4239f-3819-475c-ad20-756bed80c4ff</td>\n      <td>793914fd-7ea1-45f9-990b-0baaa34f41ec</td>\n      <td>130</td>\n      <td>139</td>\n      <td>buildings</td>\n      <td>object</td>\n      <td>{1}</td>\n      <td>1</td>\n    </tr>\n    <tr>\n      <th>5</th>\n      <td>eeb4239f-3819-475c-ad20-756bed80c4ff</td>\n      <td>7a0d3f18-a514-4043-bbfa-f8ef610b0d91</td>\n      <td>3</td>\n      <td>35</td>\n      <td>reference heat loss calculations</td>\n      <td>quality</td>\n      <td>{6}</td>\n      <td>1</td>\n    </tr>\n    <tr>\n      <th>6</th>\n      <td>eeb4239f-3819-475c-ad20-756bed80c4ff</td>\n      <td>7f1ae410-339c-45c8-bb31-c4fb9373bae8</td>\n      <td>59</td>\n      <td>122</td>\n      <td>annual efficiency of heat recovery from ventil...</td>\n      <td>property</td>\n      <td>{1, 6}</td>\n      <td>2</td>\n    </tr>\n    <tr>\n      <th>7</th>\n      <td>eeb4239f-3819-475c-ad20-756bed80c4ff</td>\n      <td>89f9f8f8-e677-458c-b6e0-8f0b7ee0c625</td>\n      <td>3</td>\n      <td>35</td>\n      <td>reference heat loss calculations</td>\n      <td>object</td>\n      <td>{4}</td>\n      <td>1</td>\n    </tr>\n    <tr>\n      <th>8</th>\n      <td>eeb4239f-3819-475c-ad20-756bed80c4ff</td>\n      <td>e2d1b75a-f90c-4637-a880-6448770535a3</td>\n      <td>168</td>\n      <td>170</td>\n      <td>55</td>\n      <td>value</td>\n      <td>{1, 4, 6}</td>\n      <td>3</td>\n    </tr>\n    <tr>\n      <th>9</th>\n      <td>efd2d371-97de-4d5e-af06-e404ff71f316</td>\n      <td>d349f07c-9f86-47db-a512-b4fdfac2c856</td>\n      <td>44</td>\n      <td>53</td>\n      <td>heat loss</td>\n      <td>property</td>\n      <td>{4}</td>\n      <td>1</td>\n    </tr>\n    <tr>\n      <th>10</th>\n      <td>efd2d371-97de-4d5e-af06-e404ff71f316</td>\n      <td>e6dd3c06-ea57-4d34-a29c-db9be23c8d2a</td>\n      <td>18</td>\n      <td>24</td>\n      <td>ground</td>\n      <td>object</td>\n      <td>{4}</td>\n      <td>1</td>\n    </tr>\n    <tr>\n      <th>11</th>\n      <td>efd2d371-97de-4d5e-af06-e404ff71f316</td>\n      <td>32221cce-640f-43a0-873e-1bd038f51460</td>\n      <td>63</td>\n      <td>107</td>\n      <td>taken into account in heat loss calculations</td>\n      <td>quality</td>\n      <td>{1}</td>\n      <td>1</td>\n    </tr>\n    <tr>\n      <th>12</th>\n      <td>efd2d371-97de-4d5e-af06-e404ff71f316</td>\n      <td>64b4c314-5540-4fa9-931c-305e1ce2571d</td>\n      <td>85</td>\n      <td>107</td>\n      <td>heat loss calculations</td>\n      <td>property</td>\n      <td>{4}</td>\n      <td>1</td>\n    </tr>\n    <tr>\n      <th>13</th>\n      <td>efd2d371-97de-4d5e-af06-e404ff71f316</td>\n      <td>75e06119-b428-4d62-90b5-32190a96f0bb</td>\n      <td>4</td>\n      <td>10</td>\n      <td>impact</td>\n      <td>property</td>\n      <td>{4, 6}</td>\n      <td>2</td>\n    </tr>\n    <tr>\n      <th>14</th>\n      <td>efd2d371-97de-4d5e-af06-e404ff71f316</td>\n      <td>8a1c9ce4-2d6b-4728-94e4-ed30b790a40d</td>\n      <td>44</td>\n      <td>53</td>\n      <td>heat loss</td>\n      <td>quality</td>\n      <td>{6}</td>\n      <td>1</td>\n    </tr>\n    <tr>\n      <th>15</th>\n      <td>efd2d371-97de-4d5e-af06-e404ff71f316</td>\n      <td>8fe70fbe-7627-4d38-8edb-0a9dbb8de68a</td>\n      <td>4</td>\n      <td>53</td>\n      <td>impact of the ground and crawl space on heat loss</td>\n      <td>property</td>\n      <td>{1}</td>\n      <td>1</td>\n    </tr>\n    <tr>\n      <th>16</th>\n      <td>efd2d371-97de-4d5e-af06-e404ff71f316</td>\n      <td>9af51392-9e72-4e2c-b414-0ffa700e80fd</td>\n      <td>18</td>\n      <td>40</td>\n      <td>ground and crawl space</td>\n      <td>object</td>\n      <td>{6}</td>\n      <td>1</td>\n    </tr>\n    <tr>\n      <th>17</th>\n      <td>efd2d371-97de-4d5e-af06-e404ff71f316</td>\n      <td>c37d3833-4531-4ae0-a5e1-d3f48b1c0fa3</td>\n      <td>29</td>\n      <td>40</td>\n      <td>crawl space</td>\n      <td>object</td>\n      <td>{4}</td>\n      <td>1</td>\n    </tr>\n    <tr>\n      <th>18</th>\n      <td>efd2d371-97de-4d5e-af06-e404ff71f316</td>\n      <td>c4d5ec8e-af1f-4457-8a9d-cc113bad86e3</td>\n      <td>85</td>\n      <td>107</td>\n      <td>heat loss calculations</td>\n      <td>quality</td>\n      <td>{6}</td>\n      <td>1</td>\n    </tr>\n    <tr>\n      <th>19</th>\n      <td>efe70fd9-5cdd-4586-9ebc-73c2960b1e00</td>\n      <td>96cb1010-df04-4e73-b582-9c555fc3759b</td>\n      <td>18</td>\n      <td>27</td>\n      <td>kept open</td>\n      <td>quality</td>\n      <td>{4}</td>\n      <td>1</td>\n    </tr>\n  </tbody>\n</table>\n</div>"
     },
     "execution_count": 29,
     "metadata": {},
     "output_type": "execute_result"
    }
   ],
   "source": [
    "SpanVotes = pd.merge(Spans, Vote, on='tagged_token_id')\n",
    "print(SpanVotes.shape)\n",
    "SpanVotes.head(20)"
   ],
   "metadata": {
    "collapsed": false
   }
  },
  {
   "cell_type": "code",
   "execution_count": 30,
   "outputs": [
    {
     "data": {
      "text/plain": "                             example_id  \\\n0  00f47e54-1414-4199-8909-3a9cc10f9309   \n1  00f47e54-1414-4199-8909-3a9cc10f9309   \n2  00f47e54-1414-4199-8909-3a9cc10f9309   \n3  00f47e54-1414-4199-8909-3a9cc10f9309   \n4  00f47e54-1414-4199-8909-3a9cc10f9309   \n\n                                             content  \\\n0  The various storeys, basement storeys and the ...   \n1  The various storeys, basement storeys and the ...   \n2  The various storeys, basement storeys and the ...   \n3  The various storeys, basement storeys and the ...   \n4  The various storeys, basement storeys and the ...   \n\n                           metadata                       tagged_token_id  \\\n0  {'ID': '101_Finnish_FireSafety'}  8bd0ea1f-7fff-42fc-ab0a-8ce9bd6f40f7   \n1  {'ID': '101_Finnish_FireSafety'}  f0f867fc-95a8-4b37-baba-ce4082b0c3b5   \n2  {'ID': '101_Finnish_FireSafety'}  24ada91a-9e8e-402a-a63c-f798424c752c   \n3  {'ID': '101_Finnish_FireSafety'}  c3d675ef-0834-4c90-90c1-82970da830f7   \n4  {'ID': '101_Finnish_FireSafety'}  46e053e9-d2a2-4375-80ea-1aa449bd76cf   \n\n  start end             value       tag annotator_id  vote  \n0     4  11           various   quality          {6}     1  \n1    12  19           storeys    object       {4, 6}     2  \n2    12  19           storeys  property          {1}     1  \n3    21  37  basement storeys  property          {1}     1  \n4    21  29          basement   quality          {6}     1  ",
      "text/html": "<div>\n<style scoped>\n    .dataframe tbody tr th:only-of-type {\n        vertical-align: middle;\n    }\n\n    .dataframe tbody tr th {\n        vertical-align: top;\n    }\n\n    .dataframe thead th {\n        text-align: right;\n    }\n</style>\n<table border=\"1\" class=\"dataframe\">\n  <thead>\n    <tr style=\"text-align: right;\">\n      <th></th>\n      <th>example_id</th>\n      <th>content</th>\n      <th>metadata</th>\n      <th>tagged_token_id</th>\n      <th>start</th>\n      <th>end</th>\n      <th>value</th>\n      <th>tag</th>\n      <th>annotator_id</th>\n      <th>vote</th>\n    </tr>\n  </thead>\n  <tbody>\n    <tr>\n      <th>0</th>\n      <td>00f47e54-1414-4199-8909-3a9cc10f9309</td>\n      <td>The various storeys, basement storeys and the ...</td>\n      <td>{'ID': '101_Finnish_FireSafety'}</td>\n      <td>8bd0ea1f-7fff-42fc-ab0a-8ce9bd6f40f7</td>\n      <td>4</td>\n      <td>11</td>\n      <td>various</td>\n      <td>quality</td>\n      <td>{6}</td>\n      <td>1</td>\n    </tr>\n    <tr>\n      <th>1</th>\n      <td>00f47e54-1414-4199-8909-3a9cc10f9309</td>\n      <td>The various storeys, basement storeys and the ...</td>\n      <td>{'ID': '101_Finnish_FireSafety'}</td>\n      <td>f0f867fc-95a8-4b37-baba-ce4082b0c3b5</td>\n      <td>12</td>\n      <td>19</td>\n      <td>storeys</td>\n      <td>object</td>\n      <td>{4, 6}</td>\n      <td>2</td>\n    </tr>\n    <tr>\n      <th>2</th>\n      <td>00f47e54-1414-4199-8909-3a9cc10f9309</td>\n      <td>The various storeys, basement storeys and the ...</td>\n      <td>{'ID': '101_Finnish_FireSafety'}</td>\n      <td>24ada91a-9e8e-402a-a63c-f798424c752c</td>\n      <td>12</td>\n      <td>19</td>\n      <td>storeys</td>\n      <td>property</td>\n      <td>{1}</td>\n      <td>1</td>\n    </tr>\n    <tr>\n      <th>3</th>\n      <td>00f47e54-1414-4199-8909-3a9cc10f9309</td>\n      <td>The various storeys, basement storeys and the ...</td>\n      <td>{'ID': '101_Finnish_FireSafety'}</td>\n      <td>c3d675ef-0834-4c90-90c1-82970da830f7</td>\n      <td>21</td>\n      <td>37</td>\n      <td>basement storeys</td>\n      <td>property</td>\n      <td>{1}</td>\n      <td>1</td>\n    </tr>\n    <tr>\n      <th>4</th>\n      <td>00f47e54-1414-4199-8909-3a9cc10f9309</td>\n      <td>The various storeys, basement storeys and the ...</td>\n      <td>{'ID': '101_Finnish_FireSafety'}</td>\n      <td>46e053e9-d2a2-4375-80ea-1aa449bd76cf</td>\n      <td>21</td>\n      <td>29</td>\n      <td>basement</td>\n      <td>quality</td>\n      <td>{6}</td>\n      <td>1</td>\n    </tr>\n  </tbody>\n</table>\n</div>"
     },
     "execution_count": 30,
     "metadata": {},
     "output_type": "execute_result"
    }
   ],
   "source": [
    "ExamplesWithAnnotations = pd.merge(Examples,SpanVotes,on='example_id')\n",
    "ExamplesWithAnnotations.sort_values(by=['example_id', 'start'], inplace=True, ignore_index=True)\n",
    "ExamplesWithAnnotations.head()"
   ],
   "metadata": {
    "collapsed": false
   }
  },
  {
   "cell_type": "code",
   "execution_count": 31,
   "outputs": [
    {
     "name": "stdout",
     "output_type": "stream",
     "text": [
      "(59, 11)\n"
     ]
    },
    {
     "data": {
      "text/plain": "                             example_id  \\\n0  00f47e54-1414-4199-8909-3a9cc10f9309   \n1  00f47e54-1414-4199-8909-3a9cc10f9309   \n2  00f47e54-1414-4199-8909-3a9cc10f9309   \n3  00f47e54-1414-4199-8909-3a9cc10f9309   \n4  103f99ad-884b-4bae-9f22-ccb1c5bc3d26   \n\n                                             content  \\\n0  The various storeys, basement storeys and the ...   \n1  The various storeys, basement storeys and the ...   \n2  The various storeys, basement storeys and the ...   \n3  The various storeys, basement storeys and the ...   \n4  In an open garage of no more than five storeys...   \n\n                           metadata                       tagged_token_id  \\\n0  {'ID': '101_Finnish_FireSafety'}  f0f867fc-95a8-4b37-baba-ce4082b0c3b5   \n1  {'ID': '101_Finnish_FireSafety'}  d44fb976-39fc-4371-a076-1414fc1735f8   \n2  {'ID': '101_Finnish_FireSafety'}  c5c40d8a-938a-4919-98c8-39663ff437d6   \n3  {'ID': '101_Finnish_FireSafety'}  8300e08e-e84c-405c-b8be-907376d7bc7d   \n4  {'ID': '110_Finnish_FireSafety'}  8e43a172-80ca-49be-90e1-a725ffeed872   \n\n  start  end                                              value      tag  \\\n0    12   19                                            storeys   object   \n1    46   51                                              attic   object   \n2    95  165  made into separate fire compartments (fire com...  quality   \n3   215  228                                      fire class P3   object   \n4     6   10                                               open  quality   \n\n  annotator_id  vote   decision  \n0       {4, 6}     2  finalised  \n1    {1, 4, 6}     3  finalised  \n2       {1, 6}     2  finalised  \n3       {1, 4}     2  finalised  \n4    {1, 4, 6}     3  finalised  ",
      "text/html": "<div>\n<style scoped>\n    .dataframe tbody tr th:only-of-type {\n        vertical-align: middle;\n    }\n\n    .dataframe tbody tr th {\n        vertical-align: top;\n    }\n\n    .dataframe thead th {\n        text-align: right;\n    }\n</style>\n<table border=\"1\" class=\"dataframe\">\n  <thead>\n    <tr style=\"text-align: right;\">\n      <th></th>\n      <th>example_id</th>\n      <th>content</th>\n      <th>metadata</th>\n      <th>tagged_token_id</th>\n      <th>start</th>\n      <th>end</th>\n      <th>value</th>\n      <th>tag</th>\n      <th>annotator_id</th>\n      <th>vote</th>\n      <th>decision</th>\n    </tr>\n  </thead>\n  <tbody>\n    <tr>\n      <th>0</th>\n      <td>00f47e54-1414-4199-8909-3a9cc10f9309</td>\n      <td>The various storeys, basement storeys and the ...</td>\n      <td>{'ID': '101_Finnish_FireSafety'}</td>\n      <td>f0f867fc-95a8-4b37-baba-ce4082b0c3b5</td>\n      <td>12</td>\n      <td>19</td>\n      <td>storeys</td>\n      <td>object</td>\n      <td>{4, 6}</td>\n      <td>2</td>\n      <td>finalised</td>\n    </tr>\n    <tr>\n      <th>1</th>\n      <td>00f47e54-1414-4199-8909-3a9cc10f9309</td>\n      <td>The various storeys, basement storeys and the ...</td>\n      <td>{'ID': '101_Finnish_FireSafety'}</td>\n      <td>d44fb976-39fc-4371-a076-1414fc1735f8</td>\n      <td>46</td>\n      <td>51</td>\n      <td>attic</td>\n      <td>object</td>\n      <td>{1, 4, 6}</td>\n      <td>3</td>\n      <td>finalised</td>\n    </tr>\n    <tr>\n      <th>2</th>\n      <td>00f47e54-1414-4199-8909-3a9cc10f9309</td>\n      <td>The various storeys, basement storeys and the ...</td>\n      <td>{'ID': '101_Finnish_FireSafety'}</td>\n      <td>c5c40d8a-938a-4919-98c8-39663ff437d6</td>\n      <td>95</td>\n      <td>165</td>\n      <td>made into separate fire compartments (fire com...</td>\n      <td>quality</td>\n      <td>{1, 6}</td>\n      <td>2</td>\n      <td>finalised</td>\n    </tr>\n    <tr>\n      <th>3</th>\n      <td>00f47e54-1414-4199-8909-3a9cc10f9309</td>\n      <td>The various storeys, basement storeys and the ...</td>\n      <td>{'ID': '101_Finnish_FireSafety'}</td>\n      <td>8300e08e-e84c-405c-b8be-907376d7bc7d</td>\n      <td>215</td>\n      <td>228</td>\n      <td>fire class P3</td>\n      <td>object</td>\n      <td>{1, 4}</td>\n      <td>2</td>\n      <td>finalised</td>\n    </tr>\n    <tr>\n      <th>4</th>\n      <td>103f99ad-884b-4bae-9f22-ccb1c5bc3d26</td>\n      <td>In an open garage of no more than five storeys...</td>\n      <td>{'ID': '110_Finnish_FireSafety'}</td>\n      <td>8e43a172-80ca-49be-90e1-a725ffeed872</td>\n      <td>6</td>\n      <td>10</td>\n      <td>open</td>\n      <td>quality</td>\n      <td>{1, 4, 6}</td>\n      <td>3</td>\n      <td>finalised</td>\n    </tr>\n  </tbody>\n</table>\n</div>"
     },
     "execution_count": 31,
     "metadata": {},
     "output_type": "execute_result"
    }
   ],
   "source": [
    "# ExamplesWithAnnotations['decision'] = np.where(ExamplesWithAnnotations['vote'] >= majority_vote, 'finalised', 'pending')\n",
    "# ExamplesWithAnnotations.sort_values(by=['example_id', 'start'], inplace=True, ignore_index=True)\n",
    "\n",
    "FinalisedAnnotations = ExamplesWithAnnotations[ExamplesWithAnnotations['vote'] >= majority_vote].copy()\n",
    "FinalisedAnnotations.sort_values(by=['example_id', 'start'], inplace=True, ignore_index=True)\n",
    "FinalisedAnnotations['decision'] = ['finalised' for i in range(0, FinalisedAnnotations.shape[0])]\n",
    "print(FinalisedAnnotations.shape)\n",
    "FinalisedAnnotations.head()"
   ],
   "metadata": {
    "collapsed": false
   }
  },
  {
   "cell_type": "code",
   "execution_count": 32,
   "outputs": [
    {
     "name": "stdout",
     "output_type": "stream",
     "text": [
      "(188, 11)\n"
     ]
    },
    {
     "data": {
      "text/plain": "                             example_id  \\\n0  00f47e54-1414-4199-8909-3a9cc10f9309   \n1  00f47e54-1414-4199-8909-3a9cc10f9309   \n2  00f47e54-1414-4199-8909-3a9cc10f9309   \n3  00f47e54-1414-4199-8909-3a9cc10f9309   \n4  00f47e54-1414-4199-8909-3a9cc10f9309   \n5  00f47e54-1414-4199-8909-3a9cc10f9309   \n6  00f47e54-1414-4199-8909-3a9cc10f9309   \n7  00f47e54-1414-4199-8909-3a9cc10f9309   \n8  00f47e54-1414-4199-8909-3a9cc10f9309   \n9  00f47e54-1414-4199-8909-3a9cc10f9309   \n\n                                             content  \\\n0  The various storeys, basement storeys and the ...   \n1  The various storeys, basement storeys and the ...   \n2  The various storeys, basement storeys and the ...   \n3  The various storeys, basement storeys and the ...   \n4  The various storeys, basement storeys and the ...   \n5  The various storeys, basement storeys and the ...   \n6  The various storeys, basement storeys and the ...   \n7  The various storeys, basement storeys and the ...   \n8  The various storeys, basement storeys and the ...   \n9  The various storeys, basement storeys and the ...   \n\n                           metadata                       tagged_token_id  \\\n0  {'ID': '101_Finnish_FireSafety'}  8bd0ea1f-7fff-42fc-ab0a-8ce9bd6f40f7   \n1  {'ID': '101_Finnish_FireSafety'}  24ada91a-9e8e-402a-a63c-f798424c752c   \n2  {'ID': '101_Finnish_FireSafety'}  c3d675ef-0834-4c90-90c1-82970da830f7   \n3  {'ID': '101_Finnish_FireSafety'}  46e053e9-d2a2-4375-80ea-1aa449bd76cf   \n4  {'ID': '101_Finnish_FireSafety'}  53b05c45-b304-43b7-b159-f649cf8f00f8   \n5  {'ID': '101_Finnish_FireSafety'}  ab239ad4-425d-4e7c-bbd8-bfe101eb42e4   \n6  {'ID': '101_Finnish_FireSafety'}  bef52f33-110d-424a-9899-ab9eb9d485c6   \n7  {'ID': '101_Finnish_FireSafety'}  edab285d-b575-438c-ba51-eca3cf0cce37   \n8  {'ID': '101_Finnish_FireSafety'}  69fb373c-c9f1-40bc-8bd7-0dc3e59fe910   \n9  {'ID': '101_Finnish_FireSafety'}  575eefad-f9c4-4312-9932-52db3ac27010   \n\n  start end                          value       tag annotator_id  vote  \\\n0     4  11                        various   quality          {6}     1   \n1    12  19                        storeys  property          {1}     1   \n2    21  37               basement storeys  property          {1}     1   \n3    21  29                       basement   quality          {6}     1   \n4    21  37               basement storeys    object          {4}     1   \n5    30  37                        storeys    object          {6}     1   \n6    57  86  P1 and P2 fire class building    object          {4}     1   \n7    57  59                             P1    object          {6}     1   \n8    57  77           P1 and P2 fire class   quality          {1}     1   \n9    64  66                             P2    object          {6}     1   \n\n  decision  \n0  pending  \n1  pending  \n2  pending  \n3  pending  \n4  pending  \n5  pending  \n6  pending  \n7  pending  \n8  pending  \n9  pending  ",
      "text/html": "<div>\n<style scoped>\n    .dataframe tbody tr th:only-of-type {\n        vertical-align: middle;\n    }\n\n    .dataframe tbody tr th {\n        vertical-align: top;\n    }\n\n    .dataframe thead th {\n        text-align: right;\n    }\n</style>\n<table border=\"1\" class=\"dataframe\">\n  <thead>\n    <tr style=\"text-align: right;\">\n      <th></th>\n      <th>example_id</th>\n      <th>content</th>\n      <th>metadata</th>\n      <th>tagged_token_id</th>\n      <th>start</th>\n      <th>end</th>\n      <th>value</th>\n      <th>tag</th>\n      <th>annotator_id</th>\n      <th>vote</th>\n      <th>decision</th>\n    </tr>\n  </thead>\n  <tbody>\n    <tr>\n      <th>0</th>\n      <td>00f47e54-1414-4199-8909-3a9cc10f9309</td>\n      <td>The various storeys, basement storeys and the ...</td>\n      <td>{'ID': '101_Finnish_FireSafety'}</td>\n      <td>8bd0ea1f-7fff-42fc-ab0a-8ce9bd6f40f7</td>\n      <td>4</td>\n      <td>11</td>\n      <td>various</td>\n      <td>quality</td>\n      <td>{6}</td>\n      <td>1</td>\n      <td>pending</td>\n    </tr>\n    <tr>\n      <th>1</th>\n      <td>00f47e54-1414-4199-8909-3a9cc10f9309</td>\n      <td>The various storeys, basement storeys and the ...</td>\n      <td>{'ID': '101_Finnish_FireSafety'}</td>\n      <td>24ada91a-9e8e-402a-a63c-f798424c752c</td>\n      <td>12</td>\n      <td>19</td>\n      <td>storeys</td>\n      <td>property</td>\n      <td>{1}</td>\n      <td>1</td>\n      <td>pending</td>\n    </tr>\n    <tr>\n      <th>2</th>\n      <td>00f47e54-1414-4199-8909-3a9cc10f9309</td>\n      <td>The various storeys, basement storeys and the ...</td>\n      <td>{'ID': '101_Finnish_FireSafety'}</td>\n      <td>c3d675ef-0834-4c90-90c1-82970da830f7</td>\n      <td>21</td>\n      <td>37</td>\n      <td>basement storeys</td>\n      <td>property</td>\n      <td>{1}</td>\n      <td>1</td>\n      <td>pending</td>\n    </tr>\n    <tr>\n      <th>3</th>\n      <td>00f47e54-1414-4199-8909-3a9cc10f9309</td>\n      <td>The various storeys, basement storeys and the ...</td>\n      <td>{'ID': '101_Finnish_FireSafety'}</td>\n      <td>46e053e9-d2a2-4375-80ea-1aa449bd76cf</td>\n      <td>21</td>\n      <td>29</td>\n      <td>basement</td>\n      <td>quality</td>\n      <td>{6}</td>\n      <td>1</td>\n      <td>pending</td>\n    </tr>\n    <tr>\n      <th>4</th>\n      <td>00f47e54-1414-4199-8909-3a9cc10f9309</td>\n      <td>The various storeys, basement storeys and the ...</td>\n      <td>{'ID': '101_Finnish_FireSafety'}</td>\n      <td>53b05c45-b304-43b7-b159-f649cf8f00f8</td>\n      <td>21</td>\n      <td>37</td>\n      <td>basement storeys</td>\n      <td>object</td>\n      <td>{4}</td>\n      <td>1</td>\n      <td>pending</td>\n    </tr>\n    <tr>\n      <th>5</th>\n      <td>00f47e54-1414-4199-8909-3a9cc10f9309</td>\n      <td>The various storeys, basement storeys and the ...</td>\n      <td>{'ID': '101_Finnish_FireSafety'}</td>\n      <td>ab239ad4-425d-4e7c-bbd8-bfe101eb42e4</td>\n      <td>30</td>\n      <td>37</td>\n      <td>storeys</td>\n      <td>object</td>\n      <td>{6}</td>\n      <td>1</td>\n      <td>pending</td>\n    </tr>\n    <tr>\n      <th>6</th>\n      <td>00f47e54-1414-4199-8909-3a9cc10f9309</td>\n      <td>The various storeys, basement storeys and the ...</td>\n      <td>{'ID': '101_Finnish_FireSafety'}</td>\n      <td>bef52f33-110d-424a-9899-ab9eb9d485c6</td>\n      <td>57</td>\n      <td>86</td>\n      <td>P1 and P2 fire class building</td>\n      <td>object</td>\n      <td>{4}</td>\n      <td>1</td>\n      <td>pending</td>\n    </tr>\n    <tr>\n      <th>7</th>\n      <td>00f47e54-1414-4199-8909-3a9cc10f9309</td>\n      <td>The various storeys, basement storeys and the ...</td>\n      <td>{'ID': '101_Finnish_FireSafety'}</td>\n      <td>edab285d-b575-438c-ba51-eca3cf0cce37</td>\n      <td>57</td>\n      <td>59</td>\n      <td>P1</td>\n      <td>object</td>\n      <td>{6}</td>\n      <td>1</td>\n      <td>pending</td>\n    </tr>\n    <tr>\n      <th>8</th>\n      <td>00f47e54-1414-4199-8909-3a9cc10f9309</td>\n      <td>The various storeys, basement storeys and the ...</td>\n      <td>{'ID': '101_Finnish_FireSafety'}</td>\n      <td>69fb373c-c9f1-40bc-8bd7-0dc3e59fe910</td>\n      <td>57</td>\n      <td>77</td>\n      <td>P1 and P2 fire class</td>\n      <td>quality</td>\n      <td>{1}</td>\n      <td>1</td>\n      <td>pending</td>\n    </tr>\n    <tr>\n      <th>9</th>\n      <td>00f47e54-1414-4199-8909-3a9cc10f9309</td>\n      <td>The various storeys, basement storeys and the ...</td>\n      <td>{'ID': '101_Finnish_FireSafety'}</td>\n      <td>575eefad-f9c4-4312-9932-52db3ac27010</td>\n      <td>64</td>\n      <td>66</td>\n      <td>P2</td>\n      <td>object</td>\n      <td>{6}</td>\n      <td>1</td>\n      <td>pending</td>\n    </tr>\n  </tbody>\n</table>\n</div>"
     },
     "execution_count": 32,
     "metadata": {},
     "output_type": "execute_result"
    }
   ],
   "source": [
    "PendingAnnotations = ExamplesWithAnnotations[ExamplesWithAnnotations['vote'] < majority_vote].copy()\n",
    "PendingAnnotations.sort_values(by=['example_id', 'start'], inplace=True, ignore_index=True)\n",
    "PendingAnnotations['decision'] = ['pending' for i in range(0, PendingAnnotations.shape[0])]\n",
    "print(PendingAnnotations.shape)\n",
    "PendingAnnotations.head(10)"
   ],
   "metadata": {
    "collapsed": false
   }
  },
  {
   "cell_type": "code",
   "execution_count": 33,
   "outputs": [
    {
     "data": {
      "text/plain": "                             example_id  \\\n0  00f47e54-1414-4199-8909-3a9cc10f9309   \n1  00f47e54-1414-4199-8909-3a9cc10f9309   \n2  00f47e54-1414-4199-8909-3a9cc10f9309   \n3  00f47e54-1414-4199-8909-3a9cc10f9309   \n4  00f47e54-1414-4199-8909-3a9cc10f9309   \n5  00f47e54-1414-4199-8909-3a9cc10f9309   \n6  00f47e54-1414-4199-8909-3a9cc10f9309   \n7  00f47e54-1414-4199-8909-3a9cc10f9309   \n8  00f47e54-1414-4199-8909-3a9cc10f9309   \n9  00f47e54-1414-4199-8909-3a9cc10f9309   \n\n                                             content  \\\n0  The various storeys, basement storeys and the ...   \n1  The various storeys, basement storeys and the ...   \n2  The various storeys, basement storeys and the ...   \n3  The various storeys, basement storeys and the ...   \n4  The various storeys, basement storeys and the ...   \n5  The various storeys, basement storeys and the ...   \n6  The various storeys, basement storeys and the ...   \n7  The various storeys, basement storeys and the ...   \n8  The various storeys, basement storeys and the ...   \n9  The various storeys, basement storeys and the ...   \n\n                           metadata                       tagged_token_id  \\\n0  {'ID': '101_Finnish_FireSafety'}  8bd0ea1f-7fff-42fc-ab0a-8ce9bd6f40f7   \n1  {'ID': '101_Finnish_FireSafety'}  24ada91a-9e8e-402a-a63c-f798424c752c   \n2  {'ID': '101_Finnish_FireSafety'}  c3d675ef-0834-4c90-90c1-82970da830f7   \n3  {'ID': '101_Finnish_FireSafety'}  46e053e9-d2a2-4375-80ea-1aa449bd76cf   \n4  {'ID': '101_Finnish_FireSafety'}  53b05c45-b304-43b7-b159-f649cf8f00f8   \n5  {'ID': '101_Finnish_FireSafety'}  ab239ad4-425d-4e7c-bbd8-bfe101eb42e4   \n6  {'ID': '101_Finnish_FireSafety'}  bef52f33-110d-424a-9899-ab9eb9d485c6   \n7  {'ID': '101_Finnish_FireSafety'}  edab285d-b575-438c-ba51-eca3cf0cce37   \n8  {'ID': '101_Finnish_FireSafety'}  69fb373c-c9f1-40bc-8bd7-0dc3e59fe910   \n9  {'ID': '101_Finnish_FireSafety'}  575eefad-f9c4-4312-9932-52db3ac27010   \n\n  start end                          value       tag annotator_id  vote  \\\n0     4  11                        various   quality          {6}     1   \n1    12  19                        storeys  property          {1}     1   \n2    21  37               basement storeys  property          {1}     1   \n3    21  29                       basement   quality          {6}     1   \n4    21  37               basement storeys    object          {4}     1   \n5    30  37                        storeys    object          {6}     1   \n6    57  86  P1 and P2 fire class building    object          {4}     1   \n7    57  59                             P1    object          {6}     1   \n8    57  77           P1 and P2 fire class   quality          {1}     1   \n9    64  66                             P2    object          {6}     1   \n\n  decision  \n0  pending  \n1  covered  \n2  pending  \n3  pending  \n4  pending  \n5  pending  \n6  pending  \n7  pending  \n8  pending  \n9  pending  ",
      "text/html": "<div>\n<style scoped>\n    .dataframe tbody tr th:only-of-type {\n        vertical-align: middle;\n    }\n\n    .dataframe tbody tr th {\n        vertical-align: top;\n    }\n\n    .dataframe thead th {\n        text-align: right;\n    }\n</style>\n<table border=\"1\" class=\"dataframe\">\n  <thead>\n    <tr style=\"text-align: right;\">\n      <th></th>\n      <th>example_id</th>\n      <th>content</th>\n      <th>metadata</th>\n      <th>tagged_token_id</th>\n      <th>start</th>\n      <th>end</th>\n      <th>value</th>\n      <th>tag</th>\n      <th>annotator_id</th>\n      <th>vote</th>\n      <th>decision</th>\n    </tr>\n  </thead>\n  <tbody>\n    <tr>\n      <th>0</th>\n      <td>00f47e54-1414-4199-8909-3a9cc10f9309</td>\n      <td>The various storeys, basement storeys and the ...</td>\n      <td>{'ID': '101_Finnish_FireSafety'}</td>\n      <td>8bd0ea1f-7fff-42fc-ab0a-8ce9bd6f40f7</td>\n      <td>4</td>\n      <td>11</td>\n      <td>various</td>\n      <td>quality</td>\n      <td>{6}</td>\n      <td>1</td>\n      <td>pending</td>\n    </tr>\n    <tr>\n      <th>1</th>\n      <td>00f47e54-1414-4199-8909-3a9cc10f9309</td>\n      <td>The various storeys, basement storeys and the ...</td>\n      <td>{'ID': '101_Finnish_FireSafety'}</td>\n      <td>24ada91a-9e8e-402a-a63c-f798424c752c</td>\n      <td>12</td>\n      <td>19</td>\n      <td>storeys</td>\n      <td>property</td>\n      <td>{1}</td>\n      <td>1</td>\n      <td>covered</td>\n    </tr>\n    <tr>\n      <th>2</th>\n      <td>00f47e54-1414-4199-8909-3a9cc10f9309</td>\n      <td>The various storeys, basement storeys and the ...</td>\n      <td>{'ID': '101_Finnish_FireSafety'}</td>\n      <td>c3d675ef-0834-4c90-90c1-82970da830f7</td>\n      <td>21</td>\n      <td>37</td>\n      <td>basement storeys</td>\n      <td>property</td>\n      <td>{1}</td>\n      <td>1</td>\n      <td>pending</td>\n    </tr>\n    <tr>\n      <th>3</th>\n      <td>00f47e54-1414-4199-8909-3a9cc10f9309</td>\n      <td>The various storeys, basement storeys and the ...</td>\n      <td>{'ID': '101_Finnish_FireSafety'}</td>\n      <td>46e053e9-d2a2-4375-80ea-1aa449bd76cf</td>\n      <td>21</td>\n      <td>29</td>\n      <td>basement</td>\n      <td>quality</td>\n      <td>{6}</td>\n      <td>1</td>\n      <td>pending</td>\n    </tr>\n    <tr>\n      <th>4</th>\n      <td>00f47e54-1414-4199-8909-3a9cc10f9309</td>\n      <td>The various storeys, basement storeys and the ...</td>\n      <td>{'ID': '101_Finnish_FireSafety'}</td>\n      <td>53b05c45-b304-43b7-b159-f649cf8f00f8</td>\n      <td>21</td>\n      <td>37</td>\n      <td>basement storeys</td>\n      <td>object</td>\n      <td>{4}</td>\n      <td>1</td>\n      <td>pending</td>\n    </tr>\n    <tr>\n      <th>5</th>\n      <td>00f47e54-1414-4199-8909-3a9cc10f9309</td>\n      <td>The various storeys, basement storeys and the ...</td>\n      <td>{'ID': '101_Finnish_FireSafety'}</td>\n      <td>ab239ad4-425d-4e7c-bbd8-bfe101eb42e4</td>\n      <td>30</td>\n      <td>37</td>\n      <td>storeys</td>\n      <td>object</td>\n      <td>{6}</td>\n      <td>1</td>\n      <td>pending</td>\n    </tr>\n    <tr>\n      <th>6</th>\n      <td>00f47e54-1414-4199-8909-3a9cc10f9309</td>\n      <td>The various storeys, basement storeys and the ...</td>\n      <td>{'ID': '101_Finnish_FireSafety'}</td>\n      <td>bef52f33-110d-424a-9899-ab9eb9d485c6</td>\n      <td>57</td>\n      <td>86</td>\n      <td>P1 and P2 fire class building</td>\n      <td>object</td>\n      <td>{4}</td>\n      <td>1</td>\n      <td>pending</td>\n    </tr>\n    <tr>\n      <th>7</th>\n      <td>00f47e54-1414-4199-8909-3a9cc10f9309</td>\n      <td>The various storeys, basement storeys and the ...</td>\n      <td>{'ID': '101_Finnish_FireSafety'}</td>\n      <td>edab285d-b575-438c-ba51-eca3cf0cce37</td>\n      <td>57</td>\n      <td>59</td>\n      <td>P1</td>\n      <td>object</td>\n      <td>{6}</td>\n      <td>1</td>\n      <td>pending</td>\n    </tr>\n    <tr>\n      <th>8</th>\n      <td>00f47e54-1414-4199-8909-3a9cc10f9309</td>\n      <td>The various storeys, basement storeys and the ...</td>\n      <td>{'ID': '101_Finnish_FireSafety'}</td>\n      <td>69fb373c-c9f1-40bc-8bd7-0dc3e59fe910</td>\n      <td>57</td>\n      <td>77</td>\n      <td>P1 and P2 fire class</td>\n      <td>quality</td>\n      <td>{1}</td>\n      <td>1</td>\n      <td>pending</td>\n    </tr>\n    <tr>\n      <th>9</th>\n      <td>00f47e54-1414-4199-8909-3a9cc10f9309</td>\n      <td>The various storeys, basement storeys and the ...</td>\n      <td>{'ID': '101_Finnish_FireSafety'}</td>\n      <td>575eefad-f9c4-4312-9932-52db3ac27010</td>\n      <td>64</td>\n      <td>66</td>\n      <td>P2</td>\n      <td>object</td>\n      <td>{6}</td>\n      <td>1</td>\n      <td>pending</td>\n    </tr>\n  </tbody>\n</table>\n</div>"
     },
     "execution_count": 33,
     "metadata": {},
     "output_type": "execute_result"
    }
   ],
   "source": [
    "# recognise annotations that are already covered by majority votes\n",
    "for index, row in PendingAnnotations.iterrows():\n",
    "  if row['example_id'] != id:\n",
    "    id = row['example_id']\n",
    "    temp_df = FinalisedAnnotations[FinalisedAnnotations['example_id'] == row['example_id']]\n",
    "    ranges = []\n",
    "    for temp_index, temp_row in temp_df.iterrows():\n",
    "      ranges.append(range(temp_row['start'], temp_row['end']))\n",
    "  r1 = range(row['start'], row['end'])\n",
    "  has_overlap = False\n",
    "  # if a pending annotation gets overlaps with a finished annotation, mark the pending as covered\n",
    "  for r in ranges:\n",
    "    overlaps = set(r1).intersection(r)\n",
    "    if len(overlaps) > 0:\n",
    "      has_overlap = True\n",
    "      break\n",
    "  if has_overlap:\n",
    "    PendingAnnotations.at[index, 'decision'] = 'covered'\n",
    "\n",
    "PendingAnnotations.head(10)"
   ],
   "metadata": {
    "collapsed": false
   }
  },
  {
   "cell_type": "code",
   "execution_count": 34,
   "outputs": [
    {
     "data": {
      "text/plain": "                             example_id  \\\n0  00f47e54-1414-4199-8909-3a9cc10f9309   \n1  00f47e54-1414-4199-8909-3a9cc10f9309   \n2  00f47e54-1414-4199-8909-3a9cc10f9309   \n3  00f47e54-1414-4199-8909-3a9cc10f9309   \n4  00f47e54-1414-4199-8909-3a9cc10f9309   \n\n                                             content  \\\n0  The various storeys, basement storeys and the ...   \n1  The various storeys, basement storeys and the ...   \n2  The various storeys, basement storeys and the ...   \n3  The various storeys, basement storeys and the ...   \n4  The various storeys, basement storeys and the ...   \n\n                           metadata                       tagged_token_id  \\\n0  {'ID': '101_Finnish_FireSafety'}  8bd0ea1f-7fff-42fc-ab0a-8ce9bd6f40f7   \n1  {'ID': '101_Finnish_FireSafety'}  f0f867fc-95a8-4b37-baba-ce4082b0c3b5   \n2  {'ID': '101_Finnish_FireSafety'}  24ada91a-9e8e-402a-a63c-f798424c752c   \n3  {'ID': '101_Finnish_FireSafety'}  c3d675ef-0834-4c90-90c1-82970da830f7   \n4  {'ID': '101_Finnish_FireSafety'}  46e053e9-d2a2-4375-80ea-1aa449bd76cf   \n\n  start end             value       tag annotator_id  vote   decision  \n0     4  11           various   quality          {6}     1    pending  \n1    12  19           storeys    object       {4, 6}     2  finalised  \n2    12  19           storeys  property          {1}     1    covered  \n3    21  37  basement storeys  property          {1}     1    pending  \n4    21  29          basement   quality          {6}     1    pending  ",
      "text/html": "<div>\n<style scoped>\n    .dataframe tbody tr th:only-of-type {\n        vertical-align: middle;\n    }\n\n    .dataframe tbody tr th {\n        vertical-align: top;\n    }\n\n    .dataframe thead th {\n        text-align: right;\n    }\n</style>\n<table border=\"1\" class=\"dataframe\">\n  <thead>\n    <tr style=\"text-align: right;\">\n      <th></th>\n      <th>example_id</th>\n      <th>content</th>\n      <th>metadata</th>\n      <th>tagged_token_id</th>\n      <th>start</th>\n      <th>end</th>\n      <th>value</th>\n      <th>tag</th>\n      <th>annotator_id</th>\n      <th>vote</th>\n      <th>decision</th>\n    </tr>\n  </thead>\n  <tbody>\n    <tr>\n      <th>0</th>\n      <td>00f47e54-1414-4199-8909-3a9cc10f9309</td>\n      <td>The various storeys, basement storeys and the ...</td>\n      <td>{'ID': '101_Finnish_FireSafety'}</td>\n      <td>8bd0ea1f-7fff-42fc-ab0a-8ce9bd6f40f7</td>\n      <td>4</td>\n      <td>11</td>\n      <td>various</td>\n      <td>quality</td>\n      <td>{6}</td>\n      <td>1</td>\n      <td>pending</td>\n    </tr>\n    <tr>\n      <th>1</th>\n      <td>00f47e54-1414-4199-8909-3a9cc10f9309</td>\n      <td>The various storeys, basement storeys and the ...</td>\n      <td>{'ID': '101_Finnish_FireSafety'}</td>\n      <td>f0f867fc-95a8-4b37-baba-ce4082b0c3b5</td>\n      <td>12</td>\n      <td>19</td>\n      <td>storeys</td>\n      <td>object</td>\n      <td>{4, 6}</td>\n      <td>2</td>\n      <td>finalised</td>\n    </tr>\n    <tr>\n      <th>2</th>\n      <td>00f47e54-1414-4199-8909-3a9cc10f9309</td>\n      <td>The various storeys, basement storeys and the ...</td>\n      <td>{'ID': '101_Finnish_FireSafety'}</td>\n      <td>24ada91a-9e8e-402a-a63c-f798424c752c</td>\n      <td>12</td>\n      <td>19</td>\n      <td>storeys</td>\n      <td>property</td>\n      <td>{1}</td>\n      <td>1</td>\n      <td>covered</td>\n    </tr>\n    <tr>\n      <th>3</th>\n      <td>00f47e54-1414-4199-8909-3a9cc10f9309</td>\n      <td>The various storeys, basement storeys and the ...</td>\n      <td>{'ID': '101_Finnish_FireSafety'}</td>\n      <td>c3d675ef-0834-4c90-90c1-82970da830f7</td>\n      <td>21</td>\n      <td>37</td>\n      <td>basement storeys</td>\n      <td>property</td>\n      <td>{1}</td>\n      <td>1</td>\n      <td>pending</td>\n    </tr>\n    <tr>\n      <th>4</th>\n      <td>00f47e54-1414-4199-8909-3a9cc10f9309</td>\n      <td>The various storeys, basement storeys and the ...</td>\n      <td>{'ID': '101_Finnish_FireSafety'}</td>\n      <td>46e053e9-d2a2-4375-80ea-1aa449bd76cf</td>\n      <td>21</td>\n      <td>29</td>\n      <td>basement</td>\n      <td>quality</td>\n      <td>{6}</td>\n      <td>1</td>\n      <td>pending</td>\n    </tr>\n  </tbody>\n</table>\n</div>"
     },
     "execution_count": 34,
     "metadata": {},
     "output_type": "execute_result"
    }
   ],
   "source": [
    "ProcessedAnnotations = pd.concat([FinalisedAnnotations, PendingAnnotations])\n",
    "ProcessedAnnotations.sort_values(by=['example_id', 'start'], inplace=True, ignore_index=True)\n",
    "ProcessedAnnotations.head()"
   ],
   "metadata": {
    "collapsed": false
   }
  },
  {
   "cell_type": "code",
   "execution_count": 35,
   "outputs": [],
   "source": [
    "ProcessedAnnotations.to_csv(spans_output, encoding='utf-8', index=False)"
   ],
   "metadata": {
    "collapsed": false
   }
  },
  {
   "cell_type": "code",
   "execution_count": null,
   "outputs": [],
   "source": [],
   "metadata": {
    "collapsed": false
   }
  }
 ],
 "metadata": {
  "kernelspec": {
   "display_name": "Python 3",
   "language": "python",
   "name": "python3"
  },
  "language_info": {
   "codemirror_mode": {
    "name": "ipython",
    "version": 2
   },
   "file_extension": ".py",
   "mimetype": "text/x-python",
   "name": "python",
   "nbconvert_exporter": "python",
   "pygments_lexer": "ipython2",
   "version": "2.7.6"
  }
 },
 "nbformat": 4,
 "nbformat_minor": 0
}
