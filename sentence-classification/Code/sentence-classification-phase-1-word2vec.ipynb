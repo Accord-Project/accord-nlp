{
  "cells": [
    {
      "cell_type": "code",
      "execution_count": null,
      "id": "e120e7e3",
      "metadata": {
        "id": "e120e7e3"
      },
      "outputs": [],
      "source": [
        "import pandas as pd"
      ]
    },
    {
      "cell_type": "code",
      "execution_count": null,
      "id": "76250ed3",
      "metadata": {
        "id": "76250ed3"
      },
      "outputs": [],
      "source": [
        "data = pd.read_excel('org_data.xlsx')"
      ]
    },
    {
      "cell_type": "code",
      "execution_count": null,
      "id": "6d69fc66",
      "metadata": {
        "id": "6d69fc66",
        "outputId": "639464f0-0abb-45fe-82cb-f329c3d5d63b"
      },
      "outputs": [
        {
          "data": {
            "text/html": [
              "<div>\n",
              "<style scoped>\n",
              "    .dataframe tbody tr th:only-of-type {\n",
              "        vertical-align: middle;\n",
              "    }\n",
              "\n",
              "    .dataframe tbody tr th {\n",
              "        vertical-align: top;\n",
              "    }\n",
              "\n",
              "    .dataframe thead th {\n",
              "        text-align: right;\n",
              "    }\n",
              "</style>\n",
              "<table border=\"1\" class=\"dataframe\">\n",
              "  <thead>\n",
              "    <tr style=\"text-align: right;\">\n",
              "      <th></th>\n",
              "      <th>ID</th>\n",
              "      <th>Class</th>\n",
              "      <th>Text</th>\n",
              "      <th>Unnamed: 3</th>\n",
              "      <th>Unnamed: 4</th>\n",
              "      <th>Unnamed: 5</th>\n",
              "      <th>Unnamed: 6</th>\n",
              "      <th>Unnamed: 7</th>\n",
              "      <th>Unnamed: 8</th>\n",
              "      <th>Unnamed: 9</th>\n",
              "      <th>...</th>\n",
              "      <th>Unnamed: 61</th>\n",
              "      <th>Unnamed: 62</th>\n",
              "      <th>Unnamed: 63</th>\n",
              "      <th>Unnamed: 64</th>\n",
              "      <th>Unnamed: 65</th>\n",
              "      <th>Unnamed: 66</th>\n",
              "      <th>Unnamed: 67</th>\n",
              "      <th>Unnamed: 68</th>\n",
              "      <th>Unnamed: 69</th>\n",
              "      <th>Unnamed: 70</th>\n",
              "    </tr>\n",
              "  </thead>\n",
              "  <tbody>\n",
              "    <tr>\n",
              "      <th>0</th>\n",
              "      <td>1_UK_DocG_Sanitation</td>\n",
              "      <td>Other</td>\n",
              "      <td>However, building work may be subject to more ...</td>\n",
              "      <td>NaN</td>\n",
              "      <td>NaN</td>\n",
              "      <td>NaN</td>\n",
              "      <td>NaN</td>\n",
              "      <td>NaN</td>\n",
              "      <td>NaN</td>\n",
              "      <td>NaN</td>\n",
              "      <td>...</td>\n",
              "      <td>NaN</td>\n",
              "      <td>NaN</td>\n",
              "      <td>NaN</td>\n",
              "      <td>NaN</td>\n",
              "      <td>NaN</td>\n",
              "      <td>NaN</td>\n",
              "      <td>NaN</td>\n",
              "      <td>NaN</td>\n",
              "      <td>NaN</td>\n",
              "      <td>NaN</td>\n",
              "    </tr>\n",
              "    <tr>\n",
              "      <th>1</th>\n",
              "      <td>2_UK_DocG_Sanitation</td>\n",
              "      <td>Other</td>\n",
              "      <td>Consideration of technical risk.</td>\n",
              "      <td>NaN</td>\n",
              "      <td>NaN</td>\n",
              "      <td>NaN</td>\n",
              "      <td>NaN</td>\n",
              "      <td>NaN</td>\n",
              "      <td>NaN</td>\n",
              "      <td>NaN</td>\n",
              "      <td>...</td>\n",
              "      <td>NaN</td>\n",
              "      <td>NaN</td>\n",
              "      <td>NaN</td>\n",
              "      <td>NaN</td>\n",
              "      <td>NaN</td>\n",
              "      <td>NaN</td>\n",
              "      <td>NaN</td>\n",
              "      <td>NaN</td>\n",
              "      <td>NaN</td>\n",
              "      <td>NaN</td>\n",
              "    </tr>\n",
              "    <tr>\n",
              "      <th>2</th>\n",
              "      <td>3_UK_DocG_Sanitation</td>\n",
              "      <td>Other</td>\n",
              "      <td>In relation to the installation of new and rep...</td>\n",
              "      <td>NaN</td>\n",
              "      <td>NaN</td>\n",
              "      <td>NaN</td>\n",
              "      <td>NaN</td>\n",
              "      <td>NaN</td>\n",
              "      <td>NaN</td>\n",
              "      <td>NaN</td>\n",
              "      <td>...</td>\n",
              "      <td>NaN</td>\n",
              "      <td>NaN</td>\n",
              "      <td>NaN</td>\n",
              "      <td>NaN</td>\n",
              "      <td>NaN</td>\n",
              "      <td>NaN</td>\n",
              "      <td>NaN</td>\n",
              "      <td>NaN</td>\n",
              "      <td>NaN</td>\n",
              "      <td>NaN</td>\n",
              "    </tr>\n",
              "    <tr>\n",
              "      <th>3</th>\n",
              "      <td>4_UK_DocG_Sanitation</td>\n",
              "      <td>Other</td>\n",
              "      <td>Attention should be paid in particular to the ...</td>\n",
              "      <td>NaN</td>\n",
              "      <td>NaN</td>\n",
              "      <td>NaN</td>\n",
              "      <td>NaN</td>\n",
              "      <td>NaN</td>\n",
              "      <td>NaN</td>\n",
              "      <td>NaN</td>\n",
              "      <td>...</td>\n",
              "      <td>NaN</td>\n",
              "      <td>NaN</td>\n",
              "      <td>NaN</td>\n",
              "      <td>NaN</td>\n",
              "      <td>NaN</td>\n",
              "      <td>NaN</td>\n",
              "      <td>NaN</td>\n",
              "      <td>NaN</td>\n",
              "      <td>NaN</td>\n",
              "      <td>NaN</td>\n",
              "    </tr>\n",
              "    <tr>\n",
              "      <th>4</th>\n",
              "      <td>5_UK_DocG_Sanitation</td>\n",
              "      <td>Other</td>\n",
              "      <td>How to use this.</td>\n",
              "      <td>NaN</td>\n",
              "      <td>NaN</td>\n",
              "      <td>NaN</td>\n",
              "      <td>NaN</td>\n",
              "      <td>NaN</td>\n",
              "      <td>NaN</td>\n",
              "      <td>NaN</td>\n",
              "      <td>...</td>\n",
              "      <td>NaN</td>\n",
              "      <td>NaN</td>\n",
              "      <td>NaN</td>\n",
              "      <td>NaN</td>\n",
              "      <td>NaN</td>\n",
              "      <td>NaN</td>\n",
              "      <td>NaN</td>\n",
              "      <td>NaN</td>\n",
              "      <td>NaN</td>\n",
              "      <td>NaN</td>\n",
              "    </tr>\n",
              "  </tbody>\n",
              "</table>\n",
              "<p>5 rows × 73 columns</p>\n",
              "</div>"
            ],
            "text/plain": [
              "                     ID  Class  \\\n",
              "0  1_UK_DocG_Sanitation  Other   \n",
              "1  2_UK_DocG_Sanitation  Other   \n",
              "2  3_UK_DocG_Sanitation  Other   \n",
              "3  4_UK_DocG_Sanitation  Other   \n",
              "4  5_UK_DocG_Sanitation  Other   \n",
              "\n",
              "                                                Text  Unnamed: 3  Unnamed: 4  \\\n",
              "0  However, building work may be subject to more ...         NaN         NaN   \n",
              "1                   Consideration of technical risk.         NaN         NaN   \n",
              "2  In relation to the installation of new and rep...         NaN         NaN   \n",
              "3  Attention should be paid in particular to the ...         NaN         NaN   \n",
              "4                                   How to use this.         NaN         NaN   \n",
              "\n",
              "  Unnamed: 5 Unnamed: 6 Unnamed: 7 Unnamed: 8  Unnamed: 9  ...  Unnamed: 61  \\\n",
              "0        NaN        NaN        NaN        NaN         NaN  ...          NaN   \n",
              "1        NaN        NaN        NaN        NaN         NaN  ...          NaN   \n",
              "2        NaN        NaN        NaN        NaN         NaN  ...          NaN   \n",
              "3        NaN        NaN        NaN        NaN         NaN  ...          NaN   \n",
              "4        NaN        NaN        NaN        NaN         NaN  ...          NaN   \n",
              "\n",
              "   Unnamed: 62 Unnamed: 63  Unnamed: 64  Unnamed: 65  Unnamed: 66  \\\n",
              "0          NaN         NaN          NaN          NaN          NaN   \n",
              "1          NaN         NaN          NaN          NaN          NaN   \n",
              "2          NaN         NaN          NaN          NaN          NaN   \n",
              "3          NaN         NaN          NaN          NaN          NaN   \n",
              "4          NaN         NaN          NaN          NaN          NaN   \n",
              "\n",
              "   Unnamed: 67  Unnamed: 68  Unnamed: 69  Unnamed: 70  \n",
              "0          NaN          NaN          NaN          NaN  \n",
              "1          NaN          NaN          NaN          NaN  \n",
              "2          NaN          NaN          NaN          NaN  \n",
              "3          NaN          NaN          NaN          NaN  \n",
              "4          NaN          NaN          NaN          NaN  \n",
              "\n",
              "[5 rows x 73 columns]"
            ]
          },
          "execution_count": 3,
          "metadata": {},
          "output_type": "execute_result"
        }
      ],
      "source": [
        "data.head(5)"
      ]
    },
    {
      "cell_type": "code",
      "execution_count": null,
      "id": "25f1202e",
      "metadata": {
        "id": "25f1202e"
      },
      "outputs": [],
      "source": [
        "# Find unnamed columns\n",
        "remove_unname_columns = [col for col in data.columns if col.startswith('Unnamed')]\n",
        "data = data.drop(columns=remove_unname_columns)"
      ]
    },
    {
      "cell_type": "code",
      "execution_count": null,
      "id": "7632eeb9",
      "metadata": {
        "id": "7632eeb9",
        "outputId": "f391911c-9ff6-4f82-9687-c867260d09f4"
      },
      "outputs": [
        {
          "data": {
            "text/html": [
              "<div>\n",
              "<style scoped>\n",
              "    .dataframe tbody tr th:only-of-type {\n",
              "        vertical-align: middle;\n",
              "    }\n",
              "\n",
              "    .dataframe tbody tr th {\n",
              "        vertical-align: top;\n",
              "    }\n",
              "\n",
              "    .dataframe thead th {\n",
              "        text-align: right;\n",
              "    }\n",
              "</style>\n",
              "<table border=\"1\" class=\"dataframe\">\n",
              "  <thead>\n",
              "    <tr style=\"text-align: right;\">\n",
              "      <th></th>\n",
              "      <th>ID</th>\n",
              "      <th>Class</th>\n",
              "      <th>Text</th>\n",
              "      <th>Other</th>\n",
              "      <th>other</th>\n",
              "    </tr>\n",
              "  </thead>\n",
              "  <tbody>\n",
              "    <tr>\n",
              "      <th>0</th>\n",
              "      <td>1_UK_DocG_Sanitation</td>\n",
              "      <td>Other</td>\n",
              "      <td>However, building work may be subject to more ...</td>\n",
              "      <td>Self-contained</td>\n",
              "      <td>NaN</td>\n",
              "    </tr>\n",
              "    <tr>\n",
              "      <th>1</th>\n",
              "      <td>2_UK_DocG_Sanitation</td>\n",
              "      <td>Other</td>\n",
              "      <td>Consideration of technical risk.</td>\n",
              "      <td>NaN</td>\n",
              "      <td>NaN</td>\n",
              "    </tr>\n",
              "    <tr>\n",
              "      <th>2</th>\n",
              "      <td>3_UK_DocG_Sanitation</td>\n",
              "      <td>Other</td>\n",
              "      <td>In relation to the installation of new and rep...</td>\n",
              "      <td>NaN</td>\n",
              "      <td>NaN</td>\n",
              "    </tr>\n",
              "    <tr>\n",
              "      <th>3</th>\n",
              "      <td>4_UK_DocG_Sanitation</td>\n",
              "      <td>Other</td>\n",
              "      <td>Attention should be paid in particular to the ...</td>\n",
              "      <td>NaN</td>\n",
              "      <td>NaN</td>\n",
              "    </tr>\n",
              "    <tr>\n",
              "      <th>4</th>\n",
              "      <td>5_UK_DocG_Sanitation</td>\n",
              "      <td>Other</td>\n",
              "      <td>How to use this.</td>\n",
              "      <td>NaN</td>\n",
              "      <td>NaN</td>\n",
              "    </tr>\n",
              "  </tbody>\n",
              "</table>\n",
              "</div>"
            ],
            "text/plain": [
              "                     ID  Class  \\\n",
              "0  1_UK_DocG_Sanitation  Other   \n",
              "1  2_UK_DocG_Sanitation  Other   \n",
              "2  3_UK_DocG_Sanitation  Other   \n",
              "3  4_UK_DocG_Sanitation  Other   \n",
              "4  5_UK_DocG_Sanitation  Other   \n",
              "\n",
              "                                                Text           Other other  \n",
              "0  However, building work may be subject to more ...  Self-contained   NaN  \n",
              "1                   Consideration of technical risk.             NaN   NaN  \n",
              "2  In relation to the installation of new and rep...             NaN   NaN  \n",
              "3  Attention should be paid in particular to the ...             NaN   NaN  \n",
              "4                                   How to use this.             NaN   NaN  "
            ]
          },
          "execution_count": 5,
          "metadata": {},
          "output_type": "execute_result"
        }
      ],
      "source": [
        "data.head(5)"
      ]
    },
    {
      "cell_type": "code",
      "execution_count": null,
      "id": "dae45fd0",
      "metadata": {
        "id": "dae45fd0"
      },
      "outputs": [],
      "source": [
        "reomve_col = ['Other','other']\n",
        "data = data.drop(columns=reomve_col)"
      ]
    },
    {
      "cell_type": "code",
      "execution_count": null,
      "id": "1cb4c18f",
      "metadata": {
        "id": "1cb4c18f",
        "outputId": "6da4b665-f849-4299-acf5-8f247e476e13"
      },
      "outputs": [
        {
          "data": {
            "text/html": [
              "<div>\n",
              "<style scoped>\n",
              "    .dataframe tbody tr th:only-of-type {\n",
              "        vertical-align: middle;\n",
              "    }\n",
              "\n",
              "    .dataframe tbody tr th {\n",
              "        vertical-align: top;\n",
              "    }\n",
              "\n",
              "    .dataframe thead th {\n",
              "        text-align: right;\n",
              "    }\n",
              "</style>\n",
              "<table border=\"1\" class=\"dataframe\">\n",
              "  <thead>\n",
              "    <tr style=\"text-align: right;\">\n",
              "      <th></th>\n",
              "      <th>ID</th>\n",
              "      <th>Class</th>\n",
              "      <th>Text</th>\n",
              "    </tr>\n",
              "  </thead>\n",
              "  <tbody>\n",
              "    <tr>\n",
              "      <th>0</th>\n",
              "      <td>1_UK_DocG_Sanitation</td>\n",
              "      <td>Other</td>\n",
              "      <td>However, building work may be subject to more ...</td>\n",
              "    </tr>\n",
              "    <tr>\n",
              "      <th>1</th>\n",
              "      <td>2_UK_DocG_Sanitation</td>\n",
              "      <td>Other</td>\n",
              "      <td>Consideration of technical risk.</td>\n",
              "    </tr>\n",
              "    <tr>\n",
              "      <th>2</th>\n",
              "      <td>3_UK_DocG_Sanitation</td>\n",
              "      <td>Other</td>\n",
              "      <td>In relation to the installation of new and rep...</td>\n",
              "    </tr>\n",
              "    <tr>\n",
              "      <th>3</th>\n",
              "      <td>4_UK_DocG_Sanitation</td>\n",
              "      <td>Other</td>\n",
              "      <td>Attention should be paid in particular to the ...</td>\n",
              "    </tr>\n",
              "    <tr>\n",
              "      <th>4</th>\n",
              "      <td>5_UK_DocG_Sanitation</td>\n",
              "      <td>Other</td>\n",
              "      <td>How to use this.</td>\n",
              "    </tr>\n",
              "  </tbody>\n",
              "</table>\n",
              "</div>"
            ],
            "text/plain": [
              "                     ID  Class  \\\n",
              "0  1_UK_DocG_Sanitation  Other   \n",
              "1  2_UK_DocG_Sanitation  Other   \n",
              "2  3_UK_DocG_Sanitation  Other   \n",
              "3  4_UK_DocG_Sanitation  Other   \n",
              "4  5_UK_DocG_Sanitation  Other   \n",
              "\n",
              "                                                Text  \n",
              "0  However, building work may be subject to more ...  \n",
              "1                   Consideration of technical risk.  \n",
              "2  In relation to the installation of new and rep...  \n",
              "3  Attention should be paid in particular to the ...  \n",
              "4                                   How to use this.  "
            ]
          },
          "execution_count": 7,
          "metadata": {},
          "output_type": "execute_result"
        }
      ],
      "source": [
        "data.head(5)"
      ]
    },
    {
      "cell_type": "code",
      "execution_count": null,
      "id": "540d81f4",
      "metadata": {
        "id": "540d81f4",
        "outputId": "183bc741-a23f-432a-8653-ca1581773984"
      },
      "outputs": [
        {
          "data": {
            "text/plain": [
              "ID       140\n",
              "Class    140\n",
              "Text     140\n",
              "dtype: int64"
            ]
          },
          "execution_count": 8,
          "metadata": {},
          "output_type": "execute_result"
        }
      ],
      "source": [
        "data.isnull().sum()"
      ]
    },
    {
      "cell_type": "code",
      "execution_count": null,
      "id": "dc0b9f40",
      "metadata": {
        "id": "dc0b9f40"
      },
      "outputs": [],
      "source": [
        "data = data.dropna()"
      ]
    },
    {
      "cell_type": "code",
      "execution_count": null,
      "id": "f19fa11e",
      "metadata": {
        "id": "f19fa11e",
        "outputId": "6071e8cf-6c7c-4069-ff36-e844748eb26d"
      },
      "outputs": [
        {
          "data": {
            "text/plain": [
              "ID       0\n",
              "Class    0\n",
              "Text     0\n",
              "dtype: int64"
            ]
          },
          "execution_count": 10,
          "metadata": {},
          "output_type": "execute_result"
        }
      ],
      "source": [
        "data.isnull().sum()"
      ]
    },
    {
      "cell_type": "code",
      "execution_count": null,
      "id": "80073e8e",
      "metadata": {
        "id": "80073e8e",
        "outputId": "2d70ab37-08f2-4588-eac1-1b86b8cab6f5"
      },
      "outputs": [
        {
          "data": {
            "text/plain": [
              "Index(['ID', 'Class', 'Text'], dtype='object')"
            ]
          },
          "execution_count": 11,
          "metadata": {},
          "output_type": "execute_result"
        }
      ],
      "source": [
        "data.columns"
      ]
    },
    {
      "cell_type": "code",
      "execution_count": null,
      "id": "2d54cde3",
      "metadata": {
        "id": "2d54cde3",
        "outputId": "27a912c6-79e8-430d-a962-add7ef762522"
      },
      "outputs": [
        {
          "data": {
            "text/plain": [
              "array(['Other', 'Self-contained', 'other', 'self-contained',\n",
              "       'Self-Contained', 'Sel-contained'], dtype=object)"
            ]
          },
          "execution_count": 12,
          "metadata": {},
          "output_type": "execute_result"
        }
      ],
      "source": [
        "data['Class'].unique()"
      ]
    },
    {
      "cell_type": "code",
      "execution_count": null,
      "id": "38752342",
      "metadata": {
        "id": "38752342"
      },
      "outputs": [],
      "source": [
        "# Map the classes\n",
        "data['target_class'] = data['Class'].map({\n",
        "    \"Self-contained\": 'self-contained',\n",
        "    \"self-contained\": 'self-contained',\n",
        "    \"Self-Contained\": 'self-contained',\n",
        "    \"Sel-contained\": 'self-contained',\n",
        "    \"Other\": 'other',\n",
        "    \"other\": 'other'\n",
        "})"
      ]
    },
    {
      "cell_type": "code",
      "execution_count": null,
      "id": "fadbcf90",
      "metadata": {
        "id": "fadbcf90",
        "outputId": "e4f218c3-eea4-41da-f114-ba27d467efbd"
      },
      "outputs": [
        {
          "data": {
            "text/plain": [
              "array(['other', 'self-contained'], dtype=object)"
            ]
          },
          "execution_count": 14,
          "metadata": {},
          "output_type": "execute_result"
        }
      ],
      "source": [
        "data['target_class'].unique()"
      ]
    },
    {
      "cell_type": "code",
      "execution_count": null,
      "id": "fd3f4a05",
      "metadata": {
        "id": "fd3f4a05",
        "outputId": "78819627-5e0f-4acb-8bdf-6273ec0ef299"
      },
      "outputs": [
        {
          "data": {
            "text/html": [
              "<div>\n",
              "<style scoped>\n",
              "    .dataframe tbody tr th:only-of-type {\n",
              "        vertical-align: middle;\n",
              "    }\n",
              "\n",
              "    .dataframe tbody tr th {\n",
              "        vertical-align: top;\n",
              "    }\n",
              "\n",
              "    .dataframe thead th {\n",
              "        text-align: right;\n",
              "    }\n",
              "</style>\n",
              "<table border=\"1\" class=\"dataframe\">\n",
              "  <thead>\n",
              "    <tr style=\"text-align: right;\">\n",
              "      <th></th>\n",
              "      <th>ID</th>\n",
              "      <th>Class</th>\n",
              "      <th>Text</th>\n",
              "      <th>target_class</th>\n",
              "    </tr>\n",
              "  </thead>\n",
              "  <tbody>\n",
              "    <tr>\n",
              "      <th>26123</th>\n",
              "      <td>499_UK_DocM_V2_AccessAndUseOfBuildings</td>\n",
              "      <td>Self-contained</td>\n",
              "      <td>The design solar load should be reduced by at ...</td>\n",
              "      <td>self-contained</td>\n",
              "    </tr>\n",
              "    <tr>\n",
              "      <th>26124</th>\n",
              "      <td>350_UK_DocM_V2_AccessAndUseOfBuildings</td>\n",
              "      <td>Self-contained</td>\n",
              "      <td>The effective g-value should be no worse than ...</td>\n",
              "      <td>self-contained</td>\n",
              "    </tr>\n",
              "    <tr>\n",
              "      <th>26125</th>\n",
              "      <td>500_UK_DocM_V2_AccessAndUseOfBuildings</td>\n",
              "      <td>Other</td>\n",
              "      <td>Any general lighting system within the area se...</td>\n",
              "      <td>other</td>\n",
              "    </tr>\n",
              "    <tr>\n",
              "      <th>26126</th>\n",
              "      <td>501_UK_DocM_V2_AccessAndUseOfBuildings</td>\n",
              "      <td>Other</td>\n",
              "      <td>Appendix E: Hierarchy for establishing seasona...</td>\n",
              "      <td>other</td>\n",
              "    </tr>\n",
              "    <tr>\n",
              "      <th>26127</th>\n",
              "      <td>502_UK_DocM_V2_AccessAndUseOfBuildings</td>\n",
              "      <td>Other</td>\n",
              "      <td>E1  When a heating system is being replaced in...</td>\n",
              "      <td>other</td>\n",
              "    </tr>\n",
              "    <tr>\n",
              "      <th>26128</th>\n",
              "      <td>503_UK_DocM_V2_AccessAndUseOfBuildings</td>\n",
              "      <td>Other</td>\n",
              "      <td>The seasonal efficiency of the appliance being...</td>\n",
              "      <td>other</td>\n",
              "    </tr>\n",
              "    <tr>\n",
              "      <th>26129</th>\n",
              "      <td>504_UK_DocM_V2_AccessAndUseOfBuildings</td>\n",
              "      <td>Other</td>\n",
              "      <td>5) should be made to convert it to an appropri...</td>\n",
              "      <td>other</td>\n",
              "    </tr>\n",
              "  </tbody>\n",
              "</table>\n",
              "</div>"
            ],
            "text/plain": [
              "                                           ID           Class  \\\n",
              "26123  499_UK_DocM_V2_AccessAndUseOfBuildings  Self-contained   \n",
              "26124  350_UK_DocM_V2_AccessAndUseOfBuildings  Self-contained   \n",
              "26125  500_UK_DocM_V2_AccessAndUseOfBuildings           Other   \n",
              "26126  501_UK_DocM_V2_AccessAndUseOfBuildings           Other   \n",
              "26127  502_UK_DocM_V2_AccessAndUseOfBuildings           Other   \n",
              "26128  503_UK_DocM_V2_AccessAndUseOfBuildings           Other   \n",
              "26129  504_UK_DocM_V2_AccessAndUseOfBuildings           Other   \n",
              "\n",
              "                                                    Text    target_class  \n",
              "26123  The design solar load should be reduced by at ...  self-contained  \n",
              "26124  The effective g-value should be no worse than ...  self-contained  \n",
              "26125  Any general lighting system within the area se...           other  \n",
              "26126  Appendix E: Hierarchy for establishing seasona...           other  \n",
              "26127  E1  When a heating system is being replaced in...           other  \n",
              "26128  The seasonal efficiency of the appliance being...           other  \n",
              "26129  5) should be made to convert it to an appropri...           other  "
            ]
          },
          "execution_count": 15,
          "metadata": {},
          "output_type": "execute_result"
        }
      ],
      "source": [
        "data.tail(7)"
      ]
    },
    {
      "cell_type": "code",
      "execution_count": null,
      "id": "1741722f",
      "metadata": {
        "id": "1741722f",
        "outputId": "d7a3c304-6fd6-40a5-e4f3-816b9ff56a56"
      },
      "outputs": [
        {
          "data": {
            "text/plain": [
              "Text(0.5, 1.0, 'Distribution of Target_class')"
            ]
          },
          "execution_count": 16,
          "metadata": {},
          "output_type": "execute_result"
        },
        {
          "data": {
            "image/png": "[encoded data removed]",
            "text/plain": [
              "<Figure size 864x432 with 1 Axes>"
            ]
          },
          "metadata": {
            "needs_background": "light"
          },
          "output_type": "display_data"
        }
      ],
      "source": [
        "# Plot the distribution after merging 6 classes into 2 classes\n",
        "import matplotlib.pyplot as plt\n",
        "plt.figure(figsize=(12, 6))\n",
        "plt.subplot(121)\n",
        "data['target_class'].value_counts().plot.bar()\n",
        "plt.title('Distribution of Target_class')"
      ]
    },
    {
      "cell_type": "code",
      "execution_count": null,
      "id": "e35836f2",
      "metadata": {
        "id": "e35836f2",
        "outputId": "c00d55bf-5ee9-44bc-9f70-d92799e10799"
      },
      "outputs": [
        {
          "data": {
            "text/html": [
              "<div>\n",
              "<style scoped>\n",
              "    .dataframe tbody tr th:only-of-type {\n",
              "        vertical-align: middle;\n",
              "    }\n",
              "\n",
              "    .dataframe tbody tr th {\n",
              "        vertical-align: top;\n",
              "    }\n",
              "\n",
              "    .dataframe thead th {\n",
              "        text-align: right;\n",
              "    }\n",
              "</style>\n",
              "<table border=\"1\" class=\"dataframe\">\n",
              "  <thead>\n",
              "    <tr style=\"text-align: right;\">\n",
              "      <th></th>\n",
              "      <th>ID</th>\n",
              "      <th>Class</th>\n",
              "      <th>Text</th>\n",
              "      <th>target_class</th>\n",
              "    </tr>\n",
              "  </thead>\n",
              "  <tbody>\n",
              "    <tr>\n",
              "      <th>0</th>\n",
              "      <td>1_UK_DocG_Sanitation</td>\n",
              "      <td>Other</td>\n",
              "      <td>However, building work may be subject to more ...</td>\n",
              "      <td>other</td>\n",
              "    </tr>\n",
              "    <tr>\n",
              "      <th>1</th>\n",
              "      <td>2_UK_DocG_Sanitation</td>\n",
              "      <td>Other</td>\n",
              "      <td>Consideration of technical risk.</td>\n",
              "      <td>other</td>\n",
              "    </tr>\n",
              "  </tbody>\n",
              "</table>\n",
              "</div>"
            ],
            "text/plain": [
              "                     ID  Class  \\\n",
              "0  1_UK_DocG_Sanitation  Other   \n",
              "1  2_UK_DocG_Sanitation  Other   \n",
              "\n",
              "                                                Text target_class  \n",
              "0  However, building work may be subject to more ...        other  \n",
              "1                   Consideration of technical risk.        other  "
            ]
          },
          "execution_count": 17,
          "metadata": {},
          "output_type": "execute_result"
        }
      ],
      "source": [
        "data.head(2)"
      ]
    },
    {
      "cell_type": "code",
      "execution_count": null,
      "id": "f69bca8f",
      "metadata": {
        "id": "f69bca8f"
      },
      "outputs": [],
      "source": [
        "from gensim.models import Word2Vec"
      ]
    },
    {
      "cell_type": "code",
      "execution_count": null,
      "id": "acf20f7b",
      "metadata": {
        "id": "acf20f7b"
      },
      "outputs": [],
      "source": [
        "from nltk.tokenize import word_tokenize"
      ]
    },
    {
      "cell_type": "code",
      "execution_count": null,
      "id": "a7d5cd0b",
      "metadata": {
        "id": "a7d5cd0b"
      },
      "outputs": [],
      "source": [
        "data['token'] = data['Text'].apply(word_tokenize)"
      ]
    },
    {
      "cell_type": "code",
      "execution_count": null,
      "id": "e09618f2",
      "metadata": {
        "id": "e09618f2",
        "outputId": "3b5f2d48-1f95-48d2-aaaa-02ef4be43734"
      },
      "outputs": [
        {
          "data": {
            "text/html": [
              "<div>\n",
              "<style scoped>\n",
              "    .dataframe tbody tr th:only-of-type {\n",
              "        vertical-align: middle;\n",
              "    }\n",
              "\n",
              "    .dataframe tbody tr th {\n",
              "        vertical-align: top;\n",
              "    }\n",
              "\n",
              "    .dataframe thead th {\n",
              "        text-align: right;\n",
              "    }\n",
              "</style>\n",
              "<table border=\"1\" class=\"dataframe\">\n",
              "  <thead>\n",
              "    <tr style=\"text-align: right;\">\n",
              "      <th></th>\n",
              "      <th>ID</th>\n",
              "      <th>Class</th>\n",
              "      <th>Text</th>\n",
              "      <th>target_class</th>\n",
              "      <th>token</th>\n",
              "    </tr>\n",
              "  </thead>\n",
              "  <tbody>\n",
              "    <tr>\n",
              "      <th>0</th>\n",
              "      <td>1_UK_DocG_Sanitation</td>\n",
              "      <td>Other</td>\n",
              "      <td>However, building work may be subject to more ...</td>\n",
              "      <td>other</td>\n",
              "      <td>[However, ,, building, work, may, be, subject,...</td>\n",
              "    </tr>\n",
              "    <tr>\n",
              "      <th>1</th>\n",
              "      <td>2_UK_DocG_Sanitation</td>\n",
              "      <td>Other</td>\n",
              "      <td>Consideration of technical risk.</td>\n",
              "      <td>other</td>\n",
              "      <td>[Consideration, of, technical, risk, .]</td>\n",
              "    </tr>\n",
              "  </tbody>\n",
              "</table>\n",
              "</div>"
            ],
            "text/plain": [
              "                     ID  Class  \\\n",
              "0  1_UK_DocG_Sanitation  Other   \n",
              "1  2_UK_DocG_Sanitation  Other   \n",
              "\n",
              "                                                Text target_class  \\\n",
              "0  However, building work may be subject to more ...        other   \n",
              "1                   Consideration of technical risk.        other   \n",
              "\n",
              "                                               token  \n",
              "0  [However, ,, building, work, may, be, subject,...  \n",
              "1            [Consideration, of, technical, risk, .]  "
            ]
          },
          "execution_count": 21,
          "metadata": {},
          "output_type": "execute_result"
        }
      ],
      "source": [
        "data.head(2)"
      ]
    },
    {
      "cell_type": "code",
      "execution_count": null,
      "id": "68166372",
      "metadata": {
        "id": "68166372"
      },
      "outputs": [],
      "source": [
        "w2v_model = Word2Vec(sentences=data['token'], vector_size=100, window=5, min_count=1, workers=4)"
      ]
    },
    {
      "cell_type": "code",
      "execution_count": null,
      "id": "14ce4d2a",
      "metadata": {
        "id": "14ce4d2a"
      },
      "outputs": [],
      "source": [
        "import numpy as np"
      ]
    },
    {
      "cell_type": "code",
      "execution_count": null,
      "id": "2ade964a",
      "metadata": {
        "id": "2ade964a"
      },
      "outputs": [],
      "source": [
        "# generate vector of text data\n",
        "def sent_vector(token):\n",
        "    vector = np.zeros(w2v_model.vector_size)\n",
        "    no_of_token = 0\n",
        "\n",
        "    for word in token:\n",
        "        if word in w2v_model.wv:\n",
        "            vector +=w2v_model.wv[word]\n",
        "            no_of_token +=1\n",
        "\n",
        "    if no_of_token > 0:\n",
        "        vector /=no_of_token\n",
        "\n",
        "    return vector"
      ]
    },
    {
      "cell_type": "code",
      "execution_count": null,
      "id": "f25f9c52",
      "metadata": {
        "id": "f25f9c52"
      },
      "outputs": [],
      "source": [
        "# here call the above function and create a new column name sent_vect\n",
        "data['sent_vect']=data['token'].apply(sent_vector)"
      ]
    },
    {
      "cell_type": "code",
      "execution_count": null,
      "id": "d9477cf4",
      "metadata": {
        "id": "d9477cf4"
      },
      "outputs": [],
      "source": [
        "from sklearn.linear_model import LogisticRegression"
      ]
    },
    {
      "cell_type": "code",
      "execution_count": null,
      "id": "837a5f57",
      "metadata": {
        "id": "837a5f57",
        "outputId": "b991e9f2-40b8-4448-dcc7-170a62597d0c"
      },
      "outputs": [
        {
          "data": {
            "text/html": [
              "<div>\n",
              "<style scoped>\n",
              "    .dataframe tbody tr th:only-of-type {\n",
              "        vertical-align: middle;\n",
              "    }\n",
              "\n",
              "    .dataframe tbody tr th {\n",
              "        vertical-align: top;\n",
              "    }\n",
              "\n",
              "    .dataframe thead th {\n",
              "        text-align: right;\n",
              "    }\n",
              "</style>\n",
              "<table border=\"1\" class=\"dataframe\">\n",
              "  <thead>\n",
              "    <tr style=\"text-align: right;\">\n",
              "      <th></th>\n",
              "      <th>ID</th>\n",
              "      <th>Class</th>\n",
              "      <th>Text</th>\n",
              "      <th>target_class</th>\n",
              "      <th>token</th>\n",
              "      <th>sent_vect</th>\n",
              "    </tr>\n",
              "  </thead>\n",
              "  <tbody>\n",
              "    <tr>\n",
              "      <th>0</th>\n",
              "      <td>1_UK_DocG_Sanitation</td>\n",
              "      <td>Other</td>\n",
              "      <td>However, building work may be subject to more ...</td>\n",
              "      <td>other</td>\n",
              "      <td>[However, ,, building, work, may, be, subject,...</td>\n",
              "      <td>[-0.4933566468603471, 0.4051052691305385, -0.0...</td>\n",
              "    </tr>\n",
              "    <tr>\n",
              "      <th>1</th>\n",
              "      <td>2_UK_DocG_Sanitation</td>\n",
              "      <td>Other</td>\n",
              "      <td>Consideration of technical risk.</td>\n",
              "      <td>other</td>\n",
              "      <td>[Consideration, of, technical, risk, .]</td>\n",
              "      <td>[-0.22891364991664886, 0.5799007922410965, 0.0...</td>\n",
              "    </tr>\n",
              "  </tbody>\n",
              "</table>\n",
              "</div>"
            ],
            "text/plain": [
              "                     ID  Class  \\\n",
              "0  1_UK_DocG_Sanitation  Other   \n",
              "1  2_UK_DocG_Sanitation  Other   \n",
              "\n",
              "                                                Text target_class  \\\n",
              "0  However, building work may be subject to more ...        other   \n",
              "1                   Consideration of technical risk.        other   \n",
              "\n",
              "                                               token  \\\n",
              "0  [However, ,, building, work, may, be, subject,...   \n",
              "1            [Consideration, of, technical, risk, .]   \n",
              "\n",
              "                                           sent_vect  \n",
              "0  [-0.4933566468603471, 0.4051052691305385, -0.0...  \n",
              "1  [-0.22891364991664886, 0.5799007922410965, 0.0...  "
            ]
          },
          "execution_count": 27,
          "metadata": {},
          "output_type": "execute_result"
        }
      ],
      "source": [
        "data.head(2)"
      ]
    },
    {
      "cell_type": "code",
      "execution_count": null,
      "id": "f791a9d3",
      "metadata": {
        "id": "f791a9d3"
      },
      "outputs": [],
      "source": [
        "x = np.stack(data['sent_vect'].to_numpy())"
      ]
    },
    {
      "cell_type": "code",
      "execution_count": null,
      "id": "8b7571d5",
      "metadata": {
        "id": "8b7571d5"
      },
      "outputs": [],
      "source": [
        "y = data['target_class']"
      ]
    },
    {
      "cell_type": "code",
      "execution_count": null,
      "id": "834bff14",
      "metadata": {
        "id": "834bff14"
      },
      "outputs": [],
      "source": [
        "from sklearn.model_selection import train_test_split"
      ]
    },
    {
      "cell_type": "code",
      "execution_count": null,
      "id": "1ef08a4c",
      "metadata": {
        "id": "1ef08a4c"
      },
      "outputs": [],
      "source": [
        "X_Train, X_Test, Y_Train, Y_Test = train_test_split(x, y, test_size=0.2, random_state=42)"
      ]
    },
    {
      "cell_type": "markdown",
      "id": "9139dccd",
      "metadata": {
        "id": "9139dccd"
      },
      "source": [
        "# Logistic Regression"
      ]
    },
    {
      "cell_type": "code",
      "execution_count": null,
      "id": "e657c660",
      "metadata": {
        "id": "e657c660"
      },
      "outputs": [],
      "source": [
        "LR_model = LogisticRegression()"
      ]
    },
    {
      "cell_type": "code",
      "execution_count": null,
      "id": "3d4bb42f",
      "metadata": {
        "id": "3d4bb42f",
        "outputId": "9ecedd09-9959-4307-f4d0-989d62ba4676"
      },
      "outputs": [
        {
          "name": "stderr",
          "output_type": "stream",
          "text": [
            "C:\\Users\\a\\anaconda3\\lib\\site-packages\\sklearn\\linear_model\\_logistic.py:444: ConvergenceWarning: lbfgs failed to converge (status=1):\n",
            "STOP: TOTAL NO. of ITERATIONS REACHED LIMIT.\n",
            "\n",
            "Increase the number of iterations (max_iter) or scale the data as shown in:\n",
            "    https://scikit-learn.org/stable/modules/preprocessing.html\n",
            "Please also refer to the documentation for alternative solver options:\n",
            "    https://scikit-learn.org/stable/modules/linear_model.html#logistic-regression\n",
            "  n_iter_i = _check_optimize_result(\n"
          ]
        },
        {
          "data": {
            "text/html": [
              "<style>#sk-container-id-1 {color: black;background-color: white;}#sk-container-id-1 pre{padding: 0;}#sk-container-id-1 div.sk-toggleable {background-color: white;}#sk-container-id-1 label.sk-toggleable__label {cursor: pointer;display: block;width: 100%;margin-bottom: 0;padding: 0.3em;box-sizing: border-box;text-align: center;}#sk-container-id-1 label.sk-toggleable__label-arrow:before {content: \"▸\";float: left;margin-right: 0.25em;color: #696969;}#sk-container-id-1 label.sk-toggleable__label-arrow:hover:before {color: black;}#sk-container-id-1 div.sk-estimator:hover label.sk-toggleable__label-arrow:before {color: black;}#sk-container-id-1 div.sk-toggleable__content {max-height: 0;max-width: 0;overflow: hidden;text-align: left;background-color: #f0f8ff;}#sk-container-id-1 div.sk-toggleable__content pre {margin: 0.2em;color: black;border-radius: 0.25em;background-color: #f0f8ff;}#sk-container-id-1 input.sk-toggleable__control:checked~div.sk-toggleable__content {max-height: 200px;max-width: 100%;overflow: auto;}#sk-container-id-1 input.sk-toggleable__control:checked~label.sk-toggleable__label-arrow:before {content: \"▾\";}#sk-container-id-1 div.sk-estimator input.sk-toggleable__control:checked~label.sk-toggleable__label {background-color: #d4ebff;}#sk-container-id-1 div.sk-label input.sk-toggleable__control:checked~label.sk-toggleable__label {background-color: #d4ebff;}#sk-container-id-1 input.sk-hidden--visually {border: 0;clip: rect(1px 1px 1px 1px);clip: rect(1px, 1px, 1px, 1px);height: 1px;margin: -1px;overflow: hidden;padding: 0;position: absolute;width: 1px;}#sk-container-id-1 div.sk-estimator {font-family: monospace;background-color: #f0f8ff;border: 1px dotted black;border-radius: 0.25em;box-sizing: border-box;margin-bottom: 0.5em;}#sk-container-id-1 div.sk-estimator:hover {background-color: #d4ebff;}#sk-container-id-1 div.sk-parallel-item::after {content: \"\";width: 100%;border-bottom: 1px solid gray;flex-grow: 1;}#sk-container-id-1 div.sk-label:hover label.sk-toggleable__label {background-color: #d4ebff;}#sk-container-id-1 div.sk-serial::before {content: \"\";position: absolute;border-left: 1px solid gray;box-sizing: border-box;top: 0;bottom: 0;left: 50%;z-index: 0;}#sk-container-id-1 div.sk-serial {display: flex;flex-direction: column;align-items: center;background-color: white;padding-right: 0.2em;padding-left: 0.2em;position: relative;}#sk-container-id-1 div.sk-item {position: relative;z-index: 1;}#sk-container-id-1 div.sk-parallel {display: flex;align-items: stretch;justify-content: center;background-color: white;position: relative;}#sk-container-id-1 div.sk-item::before, #sk-container-id-1 div.sk-parallel-item::before {content: \"\";position: absolute;border-left: 1px solid gray;box-sizing: border-box;top: 0;bottom: 0;left: 50%;z-index: -1;}#sk-container-id-1 div.sk-parallel-item {display: flex;flex-direction: column;z-index: 1;position: relative;background-color: white;}#sk-container-id-1 div.sk-parallel-item:first-child::after {align-self: flex-end;width: 50%;}#sk-container-id-1 div.sk-parallel-item:last-child::after {align-self: flex-start;width: 50%;}#sk-container-id-1 div.sk-parallel-item:only-child::after {width: 0;}#sk-container-id-1 div.sk-dashed-wrapped {border: 1px dashed gray;margin: 0 0.4em 0.5em 0.4em;box-sizing: border-box;padding-bottom: 0.4em;background-color: white;}#sk-container-id-1 div.sk-label label {font-family: monospace;font-weight: bold;display: inline-block;line-height: 1.2em;}#sk-container-id-1 div.sk-label-container {text-align: center;}#sk-container-id-1 div.sk-container {/* jupyter's `normalize.less` sets `[hidden] { display: none; }` but bootstrap.min.css set `[hidden] { display: none !important; }` so we also need the `!important` here to be able to override the default hidden behavior on the sphinx rendered scikit-learn.org. See: https://github.com/scikit-learn/scikit-learn/issues/21755 */display: inline-block !important;position: relative;}#sk-container-id-1 div.sk-text-repr-fallback {display: none;}</style><div id=\"sk-container-id-1\" class=\"sk-top-container\"><div class=\"sk-text-repr-fallback\"><pre>LogisticRegression()</pre><b>In a Jupyter environment, please rerun this cell to show the HTML representation or trust the notebook. <br />On GitHub, the HTML representation is unable to render, please try loading this page with nbviewer.org.</b></div><div class=\"sk-container\" hidden><div class=\"sk-item\"><div class=\"sk-estimator sk-toggleable\"><input class=\"sk-toggleable__control sk-hidden--visually\" id=\"sk-estimator-id-1\" type=\"checkbox\" checked><label for=\"sk-estimator-id-1\" class=\"sk-toggleable__label sk-toggleable__label-arrow\">LogisticRegression</label><div class=\"sk-toggleable__content\"><pre>LogisticRegression()</pre></div></div></div></div></div>"
            ],
            "text/plain": [
              "LogisticRegression()"
            ]
          },
          "execution_count": 33,
          "metadata": {},
          "output_type": "execute_result"
        }
      ],
      "source": [
        "LR_model.fit(X_Train,Y_Train)"
      ]
    },
    {
      "cell_type": "code",
      "execution_count": null,
      "id": "ad0243f0",
      "metadata": {
        "id": "ad0243f0"
      },
      "outputs": [],
      "source": [
        "pred_LR_model = LR_model.predict(X_Test)"
      ]
    },
    {
      "cell_type": "code",
      "execution_count": null,
      "id": "94fb10a3",
      "metadata": {
        "id": "94fb10a3"
      },
      "outputs": [],
      "source": [
        "from sklearn.metrics import accuracy_score"
      ]
    },
    {
      "cell_type": "code",
      "execution_count": null,
      "id": "2d359d7f",
      "metadata": {
        "id": "2d359d7f"
      },
      "outputs": [],
      "source": [
        "acc_of_LR_model = accuracy_score(Y_Test, pred_LR_model)"
      ]
    },
    {
      "cell_type": "code",
      "execution_count": null,
      "id": "1857d4d4",
      "metadata": {
        "id": "1857d4d4",
        "outputId": "e41d685b-636d-440a-af81-5b4e5daee412"
      },
      "outputs": [
        {
          "name": "stdout",
          "output_type": "stream",
          "text": [
            "The Accuracy of Logistic Regression Model 0.8793302540415704\n"
          ]
        }
      ],
      "source": [
        "print('The Accuracy of Logistic Regression Model',acc_of_LR_model)"
      ]
    },
    {
      "cell_type": "markdown",
      "id": "0d221c59",
      "metadata": {
        "id": "0d221c59"
      },
      "source": [
        "# Random Forest Classifier"
      ]
    },
    {
      "cell_type": "code",
      "execution_count": null,
      "id": "f090cc45",
      "metadata": {
        "id": "f090cc45"
      },
      "outputs": [],
      "source": [
        "from sklearn.ensemble import RandomForestClassifier"
      ]
    },
    {
      "cell_type": "code",
      "execution_count": null,
      "id": "5c0ddfd4",
      "metadata": {
        "id": "5c0ddfd4"
      },
      "outputs": [],
      "source": [
        "RFC = RandomForestClassifier()"
      ]
    },
    {
      "cell_type": "code",
      "execution_count": null,
      "id": "49534915",
      "metadata": {
        "id": "49534915",
        "outputId": "1dcd779d-c1a8-4fb8-cb69-119bd74ab31b"
      },
      "outputs": [
        {
          "data": {
            "text/html": [
              "<style>#sk-container-id-2 {color: black;background-color: white;}#sk-container-id-2 pre{padding: 0;}#sk-container-id-2 div.sk-toggleable {background-color: white;}#sk-container-id-2 label.sk-toggleable__label {cursor: pointer;display: block;width: 100%;margin-bottom: 0;padding: 0.3em;box-sizing: border-box;text-align: center;}#sk-container-id-2 label.sk-toggleable__label-arrow:before {content: \"▸\";float: left;margin-right: 0.25em;color: #696969;}#sk-container-id-2 label.sk-toggleable__label-arrow:hover:before {color: black;}#sk-container-id-2 div.sk-estimator:hover label.sk-toggleable__label-arrow:before {color: black;}#sk-container-id-2 div.sk-toggleable__content {max-height: 0;max-width: 0;overflow: hidden;text-align: left;background-color: #f0f8ff;}#sk-container-id-2 div.sk-toggleable__content pre {margin: 0.2em;color: black;border-radius: 0.25em;background-color: #f0f8ff;}#sk-container-id-2 input.sk-toggleable__control:checked~div.sk-toggleable__content {max-height: 200px;max-width: 100%;overflow: auto;}#sk-container-id-2 input.sk-toggleable__control:checked~label.sk-toggleable__label-arrow:before {content: \"▾\";}#sk-container-id-2 div.sk-estimator input.sk-toggleable__control:checked~label.sk-toggleable__label {background-color: #d4ebff;}#sk-container-id-2 div.sk-label input.sk-toggleable__control:checked~label.sk-toggleable__label {background-color: #d4ebff;}#sk-container-id-2 input.sk-hidden--visually {border: 0;clip: rect(1px 1px 1px 1px);clip: rect(1px, 1px, 1px, 1px);height: 1px;margin: -1px;overflow: hidden;padding: 0;position: absolute;width: 1px;}#sk-container-id-2 div.sk-estimator {font-family: monospace;background-color: #f0f8ff;border: 1px dotted black;border-radius: 0.25em;box-sizing: border-box;margin-bottom: 0.5em;}#sk-container-id-2 div.sk-estimator:hover {background-color: #d4ebff;}#sk-container-id-2 div.sk-parallel-item::after {content: \"\";width: 100%;border-bottom: 1px solid gray;flex-grow: 1;}#sk-container-id-2 div.sk-label:hover label.sk-toggleable__label {background-color: #d4ebff;}#sk-container-id-2 div.sk-serial::before {content: \"\";position: absolute;border-left: 1px solid gray;box-sizing: border-box;top: 0;bottom: 0;left: 50%;z-index: 0;}#sk-container-id-2 div.sk-serial {display: flex;flex-direction: column;align-items: center;background-color: white;padding-right: 0.2em;padding-left: 0.2em;position: relative;}#sk-container-id-2 div.sk-item {position: relative;z-index: 1;}#sk-container-id-2 div.sk-parallel {display: flex;align-items: stretch;justify-content: center;background-color: white;position: relative;}#sk-container-id-2 div.sk-item::before, #sk-container-id-2 div.sk-parallel-item::before {content: \"\";position: absolute;border-left: 1px solid gray;box-sizing: border-box;top: 0;bottom: 0;left: 50%;z-index: -1;}#sk-container-id-2 div.sk-parallel-item {display: flex;flex-direction: column;z-index: 1;position: relative;background-color: white;}#sk-container-id-2 div.sk-parallel-item:first-child::after {align-self: flex-end;width: 50%;}#sk-container-id-2 div.sk-parallel-item:last-child::after {align-self: flex-start;width: 50%;}#sk-container-id-2 div.sk-parallel-item:only-child::after {width: 0;}#sk-container-id-2 div.sk-dashed-wrapped {border: 1px dashed gray;margin: 0 0.4em 0.5em 0.4em;box-sizing: border-box;padding-bottom: 0.4em;background-color: white;}#sk-container-id-2 div.sk-label label {font-family: monospace;font-weight: bold;display: inline-block;line-height: 1.2em;}#sk-container-id-2 div.sk-label-container {text-align: center;}#sk-container-id-2 div.sk-container {/* jupyter's `normalize.less` sets `[hidden] { display: none; }` but bootstrap.min.css set `[hidden] { display: none !important; }` so we also need the `!important` here to be able to override the default hidden behavior on the sphinx rendered scikit-learn.org. See: https://github.com/scikit-learn/scikit-learn/issues/21755 */display: inline-block !important;position: relative;}#sk-container-id-2 div.sk-text-repr-fallback {display: none;}</style><div id=\"sk-container-id-2\" class=\"sk-top-container\"><div class=\"sk-text-repr-fallback\"><pre>RandomForestClassifier()</pre><b>In a Jupyter environment, please rerun this cell to show the HTML representation or trust the notebook. <br />On GitHub, the HTML representation is unable to render, please try loading this page with nbviewer.org.</b></div><div class=\"sk-container\" hidden><div class=\"sk-item\"><div class=\"sk-estimator sk-toggleable\"><input class=\"sk-toggleable__control sk-hidden--visually\" id=\"sk-estimator-id-2\" type=\"checkbox\" checked><label for=\"sk-estimator-id-2\" class=\"sk-toggleable__label sk-toggleable__label-arrow\">RandomForestClassifier</label><div class=\"sk-toggleable__content\"><pre>RandomForestClassifier()</pre></div></div></div></div></div>"
            ],
            "text/plain": [
              "RandomForestClassifier()"
            ]
          },
          "execution_count": 40,
          "metadata": {},
          "output_type": "execute_result"
        }
      ],
      "source": [
        "RFC.fit(X_Train,Y_Train)"
      ]
    },
    {
      "cell_type": "code",
      "execution_count": null,
      "id": "415ed50f",
      "metadata": {
        "id": "415ed50f"
      },
      "outputs": [],
      "source": [
        "predication_RFC = RFC.predict(X_Test)"
      ]
    },
    {
      "cell_type": "code",
      "execution_count": null,
      "id": "cee5fea3",
      "metadata": {
        "id": "cee5fea3"
      },
      "outputs": [],
      "source": [
        "accuracy_RFC = accuracy_score(Y_Test,predication_RFC)"
      ]
    },
    {
      "cell_type": "code",
      "execution_count": null,
      "id": "18f8356b",
      "metadata": {
        "id": "18f8356b",
        "outputId": "cf98db49-b741-4eba-a025-55e95084e14c"
      },
      "outputs": [
        {
          "name": "stdout",
          "output_type": "stream",
          "text": [
            "the accuracy of Random Forest Classifier 0.9890300230946882\n"
          ]
        }
      ],
      "source": [
        "print('the accuracy of Random Forest Classifier',accuracy_RFC)"
      ]
    },
    {
      "cell_type": "markdown",
      "id": "9df72fe6",
      "metadata": {
        "id": "9df72fe6"
      },
      "source": [
        "# Support Vector Classifier"
      ]
    },
    {
      "cell_type": "code",
      "execution_count": null,
      "id": "9a5aa433",
      "metadata": {
        "id": "9a5aa433"
      },
      "outputs": [],
      "source": [
        "from sklearn.svm import SVC"
      ]
    },
    {
      "cell_type": "code",
      "execution_count": null,
      "id": "06d4cad0",
      "metadata": {
        "id": "06d4cad0"
      },
      "outputs": [],
      "source": [
        "SVC_model = SVC()"
      ]
    },
    {
      "cell_type": "code",
      "execution_count": null,
      "id": "a32bcdff",
      "metadata": {
        "id": "a32bcdff",
        "outputId": "e9be5d7b-f601-420e-86d4-09d5d4c87caf"
      },
      "outputs": [
        {
          "data": {
            "text/html": [
              "<style>#sk-container-id-3 {color: black;background-color: white;}#sk-container-id-3 pre{padding: 0;}#sk-container-id-3 div.sk-toggleable {background-color: white;}#sk-container-id-3 label.sk-toggleable__label {cursor: pointer;display: block;width: 100%;margin-bottom: 0;padding: 0.3em;box-sizing: border-box;text-align: center;}#sk-container-id-3 label.sk-toggleable__label-arrow:before {content: \"▸\";float: left;margin-right: 0.25em;color: #696969;}#sk-container-id-3 label.sk-toggleable__label-arrow:hover:before {color: black;}#sk-container-id-3 div.sk-estimator:hover label.sk-toggleable__label-arrow:before {color: black;}#sk-container-id-3 div.sk-toggleable__content {max-height: 0;max-width: 0;overflow: hidden;text-align: left;background-color: #f0f8ff;}#sk-container-id-3 div.sk-toggleable__content pre {margin: 0.2em;color: black;border-radius: 0.25em;background-color: #f0f8ff;}#sk-container-id-3 input.sk-toggleable__control:checked~div.sk-toggleable__content {max-height: 200px;max-width: 100%;overflow: auto;}#sk-container-id-3 input.sk-toggleable__control:checked~label.sk-toggleable__label-arrow:before {content: \"▾\";}#sk-container-id-3 div.sk-estimator input.sk-toggleable__control:checked~label.sk-toggleable__label {background-color: #d4ebff;}#sk-container-id-3 div.sk-label input.sk-toggleable__control:checked~label.sk-toggleable__label {background-color: #d4ebff;}#sk-container-id-3 input.sk-hidden--visually {border: 0;clip: rect(1px 1px 1px 1px);clip: rect(1px, 1px, 1px, 1px);height: 1px;margin: -1px;overflow: hidden;padding: 0;position: absolute;width: 1px;}#sk-container-id-3 div.sk-estimator {font-family: monospace;background-color: #f0f8ff;border: 1px dotted black;border-radius: 0.25em;box-sizing: border-box;margin-bottom: 0.5em;}#sk-container-id-3 div.sk-estimator:hover {background-color: #d4ebff;}#sk-container-id-3 div.sk-parallel-item::after {content: \"\";width: 100%;border-bottom: 1px solid gray;flex-grow: 1;}#sk-container-id-3 div.sk-label:hover label.sk-toggleable__label {background-color: #d4ebff;}#sk-container-id-3 div.sk-serial::before {content: \"\";position: absolute;border-left: 1px solid gray;box-sizing: border-box;top: 0;bottom: 0;left: 50%;z-index: 0;}#sk-container-id-3 div.sk-serial {display: flex;flex-direction: column;align-items: center;background-color: white;padding-right: 0.2em;padding-left: 0.2em;position: relative;}#sk-container-id-3 div.sk-item {position: relative;z-index: 1;}#sk-container-id-3 div.sk-parallel {display: flex;align-items: stretch;justify-content: center;background-color: white;position: relative;}#sk-container-id-3 div.sk-item::before, #sk-container-id-3 div.sk-parallel-item::before {content: \"\";position: absolute;border-left: 1px solid gray;box-sizing: border-box;top: 0;bottom: 0;left: 50%;z-index: -1;}#sk-container-id-3 div.sk-parallel-item {display: flex;flex-direction: column;z-index: 1;position: relative;background-color: white;}#sk-container-id-3 div.sk-parallel-item:first-child::after {align-self: flex-end;width: 50%;}#sk-container-id-3 div.sk-parallel-item:last-child::after {align-self: flex-start;width: 50%;}#sk-container-id-3 div.sk-parallel-item:only-child::after {width: 0;}#sk-container-id-3 div.sk-dashed-wrapped {border: 1px dashed gray;margin: 0 0.4em 0.5em 0.4em;box-sizing: border-box;padding-bottom: 0.4em;background-color: white;}#sk-container-id-3 div.sk-label label {font-family: monospace;font-weight: bold;display: inline-block;line-height: 1.2em;}#sk-container-id-3 div.sk-label-container {text-align: center;}#sk-container-id-3 div.sk-container {/* jupyter's `normalize.less` sets `[hidden] { display: none; }` but bootstrap.min.css set `[hidden] { display: none !important; }` so we also need the `!important` here to be able to override the default hidden behavior on the sphinx rendered scikit-learn.org. See: https://github.com/scikit-learn/scikit-learn/issues/21755 */display: inline-block !important;position: relative;}#sk-container-id-3 div.sk-text-repr-fallback {display: none;}</style><div id=\"sk-container-id-3\" class=\"sk-top-container\"><div class=\"sk-text-repr-fallback\"><pre>SVC()</pre><b>In a Jupyter environment, please rerun this cell to show the HTML representation or trust the notebook. <br />On GitHub, the HTML representation is unable to render, please try loading this page with nbviewer.org.</b></div><div class=\"sk-container\" hidden><div class=\"sk-item\"><div class=\"sk-estimator sk-toggleable\"><input class=\"sk-toggleable__control sk-hidden--visually\" id=\"sk-estimator-id-3\" type=\"checkbox\" checked><label for=\"sk-estimator-id-3\" class=\"sk-toggleable__label sk-toggleable__label-arrow\">SVC</label><div class=\"sk-toggleable__content\"><pre>SVC()</pre></div></div></div></div></div>"
            ],
            "text/plain": [
              "SVC()"
            ]
          },
          "execution_count": 48,
          "metadata": {},
          "output_type": "execute_result"
        }
      ],
      "source": [
        "SVC_model.fit(X_Train,Y_Train)"
      ]
    },
    {
      "cell_type": "code",
      "execution_count": null,
      "id": "0c4e06f4",
      "metadata": {
        "id": "0c4e06f4"
      },
      "outputs": [],
      "source": [
        "predication_SVC = SVC_model.predict(X_Test)"
      ]
    },
    {
      "cell_type": "code",
      "execution_count": null,
      "id": "18587774",
      "metadata": {
        "id": "18587774"
      },
      "outputs": [],
      "source": [
        "accuracy_svc = accuracy_score(Y_Test,predication_SVC)"
      ]
    },
    {
      "cell_type": "code",
      "execution_count": null,
      "id": "85f390f6",
      "metadata": {
        "id": "85f390f6",
        "outputId": "b5170ccc-3d9e-4de0-8ddd-f0879cafa87d"
      },
      "outputs": [
        {
          "name": "stdout",
          "output_type": "stream",
          "text": [
            "The Accuracy of SVC  0.955735180908391\n"
          ]
        }
      ],
      "source": [
        "print('The Accuracy of SVC ',accuracy_svc)"
      ]
    }
  ],
  "metadata": {
    "kernelspec": {
      "display_name": "Python 3",
      "language": "python",
      "name": "python3"
    },
    "language_info": {
      "codemirror_mode": {
        "name": "ipython",
        "version": 3
      },
      "file_extension": ".py",
      "mimetype": "text/x-python",
      "name": "python",
      "nbconvert_exporter": "python",
      "pygments_lexer": "ipython3",
      "version": "3.8.8"
    },
    "colab": {
      "provenance": [],
      "toc_visible": true
    }
  },
  "nbformat": 4,
  "nbformat_minor": 5
}